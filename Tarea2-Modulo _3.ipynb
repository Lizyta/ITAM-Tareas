{
 "cells": [
  {
   "cell_type": "markdown",
   "metadata": {},
   "source": [
    "<h2 style=\"color:crimson\">Respuestas Tarea 2</h2>"
   ]
  },
  {
   "cell_type": "markdown",
   "metadata": {},
   "source": [
    "1. Declara la variable `cemex_close` siendo esta la columna `PX_LAST` dentro del DataFrame `bmv`; transforma el índice de `cemex_close` a fin de que sea un `DateTimeIndex`; posteriormente, declara la variable `cemex_diff` que contenga la diferencia de precios entre un día y el siguiente (**hint**: ocupa el método `shift`)\n",
    "\n",
    "Crea una figure usando matplotlib con 2 columnas: la primera columna deberá ser el histórico de `cemex_diff`; la segunda columna, un histograma de `cemex_diff` con `bins=20`.\n"
   ]
  },
  {
   "cell_type": "code",
   "execution_count": 1,
   "metadata": {},
   "outputs": [],
   "source": [
    "import pandas as pd\n",
    "import numpy as np\n",
    "import matplotlib.pyplot as plt\n",
    "import seaborn as sns\n",
    "from datetime import datetime"
   ]
  },
  {
   "cell_type": "code",
   "execution_count": 2,
   "metadata": {},
   "outputs": [
    {
     "data": {
      "text/html": [
       "<div>\n",
       "<style scoped>\n",
       "    .dataframe tbody tr th:only-of-type {\n",
       "        vertical-align: middle;\n",
       "    }\n",
       "\n",
       "    .dataframe tbody tr th {\n",
       "        vertical-align: top;\n",
       "    }\n",
       "\n",
       "    .dataframe thead th {\n",
       "        text-align: right;\n",
       "    }\n",
       "</style>\n",
       "<table border=\"1\" class=\"dataframe\">\n",
       "  <thead>\n",
       "    <tr style=\"text-align: right;\">\n",
       "      <th></th>\n",
       "      <th>date</th>\n",
       "      <th>ticker</th>\n",
       "      <th>field</th>\n",
       "      <th>value</th>\n",
       "    </tr>\n",
       "  </thead>\n",
       "  <tbody>\n",
       "    <tr>\n",
       "      <td>0</td>\n",
       "      <td>2017-06-07</td>\n",
       "      <td>BBAJIOO MF Equity</td>\n",
       "      <td>PX_LAST</td>\n",
       "      <td>29.50</td>\n",
       "    </tr>\n",
       "    <tr>\n",
       "      <td>1</td>\n",
       "      <td>2017-06-08</td>\n",
       "      <td>BBAJIOO MF Equity</td>\n",
       "      <td>PX_LAST</td>\n",
       "      <td>30.14</td>\n",
       "    </tr>\n",
       "    <tr>\n",
       "      <td>2</td>\n",
       "      <td>2017-06-08</td>\n",
       "      <td>BBAJIOO MF Equity</td>\n",
       "      <td>PX_LOW</td>\n",
       "      <td>29.75</td>\n",
       "    </tr>\n",
       "    <tr>\n",
       "      <td>3</td>\n",
       "      <td>2017-06-08</td>\n",
       "      <td>BBAJIOO MF Equity</td>\n",
       "      <td>PX_OPEN</td>\n",
       "      <td>29.50</td>\n",
       "    </tr>\n",
       "    <tr>\n",
       "      <td>4</td>\n",
       "      <td>2017-06-08</td>\n",
       "      <td>BBAJIOO MF Equity</td>\n",
       "      <td>PX_HIGH</td>\n",
       "      <td>30.70</td>\n",
       "    </tr>\n",
       "  </tbody>\n",
       "</table>\n",
       "</div>"
      ],
      "text/plain": [
       "         date             ticker    field  value\n",
       "0  2017-06-07  BBAJIOO MF Equity  PX_LAST  29.50\n",
       "1  2017-06-08  BBAJIOO MF Equity  PX_LAST  30.14\n",
       "2  2017-06-08  BBAJIOO MF Equity   PX_LOW  29.75\n",
       "3  2017-06-08  BBAJIOO MF Equity  PX_OPEN  29.50\n",
       "4  2017-06-08  BBAJIOO MF Equity  PX_HIGH  30.70"
      ]
     },
     "execution_count": 2,
     "metadata": {},
     "output_type": "execute_result"
    }
   ],
   "source": [
    "#Se abre el archivo csv y se visualiza\n",
    "bmv = pd.read_csv(\"../files/lec02/ipc0019.csv\")\n",
    "bmv.head()"
   ]
  },
  {
   "cell_type": "code",
   "execution_count": 3,
   "metadata": {},
   "outputs": [
    {
     "data": {
      "text/html": [
       "<div>\n",
       "<style scoped>\n",
       "    .dataframe tbody tr th:only-of-type {\n",
       "        vertical-align: middle;\n",
       "    }\n",
       "\n",
       "    .dataframe tbody tr th {\n",
       "        vertical-align: top;\n",
       "    }\n",
       "\n",
       "    .dataframe thead tr th {\n",
       "        text-align: left;\n",
       "    }\n",
       "\n",
       "    .dataframe thead tr:last-of-type th {\n",
       "        text-align: right;\n",
       "    }\n",
       "</style>\n",
       "<table border=\"1\" class=\"dataframe\">\n",
       "  <thead>\n",
       "    <tr>\n",
       "      <th>ticker</th>\n",
       "      <th colspan=\"6\" halign=\"left\">1746531D GZ Equity</th>\n",
       "      <th colspan=\"4\" halign=\"left\">AC* MF Equity</th>\n",
       "      <th>...</th>\n",
       "      <th colspan=\"4\" halign=\"left\">TLEVICPO MF Equity</th>\n",
       "      <th colspan=\"6\" halign=\"left\">WALMEX* MF Equity</th>\n",
       "    </tr>\n",
       "    <tr>\n",
       "      <th>field</th>\n",
       "      <th>PX_HIGH</th>\n",
       "      <th>PX_LAST</th>\n",
       "      <th>PX_LOW</th>\n",
       "      <th>PX_MID</th>\n",
       "      <th>PX_OPEN</th>\n",
       "      <th>PX_VOLUME</th>\n",
       "      <th>PX_HIGH</th>\n",
       "      <th>PX_LAST</th>\n",
       "      <th>PX_LOW</th>\n",
       "      <th>PX_MID</th>\n",
       "      <th>...</th>\n",
       "      <th>PX_LOW</th>\n",
       "      <th>PX_MID</th>\n",
       "      <th>PX_OPEN</th>\n",
       "      <th>PX_VOLUME</th>\n",
       "      <th>PX_HIGH</th>\n",
       "      <th>PX_LAST</th>\n",
       "      <th>PX_LOW</th>\n",
       "      <th>PX_MID</th>\n",
       "      <th>PX_OPEN</th>\n",
       "      <th>PX_VOLUME</th>\n",
       "    </tr>\n",
       "    <tr>\n",
       "      <th>date</th>\n",
       "      <th></th>\n",
       "      <th></th>\n",
       "      <th></th>\n",
       "      <th></th>\n",
       "      <th></th>\n",
       "      <th></th>\n",
       "      <th></th>\n",
       "      <th></th>\n",
       "      <th></th>\n",
       "      <th></th>\n",
       "      <th></th>\n",
       "      <th></th>\n",
       "      <th></th>\n",
       "      <th></th>\n",
       "      <th></th>\n",
       "      <th></th>\n",
       "      <th></th>\n",
       "      <th></th>\n",
       "      <th></th>\n",
       "      <th></th>\n",
       "      <th></th>\n",
       "    </tr>\n",
       "  </thead>\n",
       "  <tbody>\n",
       "    <tr>\n",
       "      <td>2000-01-03</td>\n",
       "      <td>NaN</td>\n",
       "      <td>NaN</td>\n",
       "      <td>NaN</td>\n",
       "      <td>NaN</td>\n",
       "      <td>NaN</td>\n",
       "      <td>NaN</td>\n",
       "      <td>NaN</td>\n",
       "      <td>NaN</td>\n",
       "      <td>NaN</td>\n",
       "      <td>NaN</td>\n",
       "      <td>...</td>\n",
       "      <td>30.44</td>\n",
       "      <td>30.50</td>\n",
       "      <td>32.20</td>\n",
       "      <td>680000.0</td>\n",
       "      <td>5.14</td>\n",
       "      <td>4.90</td>\n",
       "      <td>4.75</td>\n",
       "      <td>4.89</td>\n",
       "      <td>4.78</td>\n",
       "      <td>17132000.0</td>\n",
       "    </tr>\n",
       "    <tr>\n",
       "      <td>2000-01-04</td>\n",
       "      <td>NaN</td>\n",
       "      <td>NaN</td>\n",
       "      <td>NaN</td>\n",
       "      <td>NaN</td>\n",
       "      <td>NaN</td>\n",
       "      <td>NaN</td>\n",
       "      <td>NaN</td>\n",
       "      <td>NaN</td>\n",
       "      <td>NaN</td>\n",
       "      <td>NaN</td>\n",
       "      <td>...</td>\n",
       "      <td>27.30</td>\n",
       "      <td>27.45</td>\n",
       "      <td>28.80</td>\n",
       "      <td>2980000.0</td>\n",
       "      <td>4.83</td>\n",
       "      <td>4.82</td>\n",
       "      <td>4.73</td>\n",
       "      <td>4.83</td>\n",
       "      <td>4.80</td>\n",
       "      <td>20296000.0</td>\n",
       "    </tr>\n",
       "    <tr>\n",
       "      <td>2000-01-05</td>\n",
       "      <td>NaN</td>\n",
       "      <td>NaN</td>\n",
       "      <td>NaN</td>\n",
       "      <td>NaN</td>\n",
       "      <td>NaN</td>\n",
       "      <td>NaN</td>\n",
       "      <td>NaN</td>\n",
       "      <td>NaN</td>\n",
       "      <td>NaN</td>\n",
       "      <td>NaN</td>\n",
       "      <td>...</td>\n",
       "      <td>25.90</td>\n",
       "      <td>27.15</td>\n",
       "      <td>26.80</td>\n",
       "      <td>3430000.0</td>\n",
       "      <td>5.25</td>\n",
       "      <td>5.21</td>\n",
       "      <td>4.70</td>\n",
       "      <td>5.30</td>\n",
       "      <td>4.80</td>\n",
       "      <td>20372000.0</td>\n",
       "    </tr>\n",
       "    <tr>\n",
       "      <td>2000-01-06</td>\n",
       "      <td>NaN</td>\n",
       "      <td>NaN</td>\n",
       "      <td>NaN</td>\n",
       "      <td>NaN</td>\n",
       "      <td>NaN</td>\n",
       "      <td>NaN</td>\n",
       "      <td>NaN</td>\n",
       "      <td>NaN</td>\n",
       "      <td>NaN</td>\n",
       "      <td>NaN</td>\n",
       "      <td>...</td>\n",
       "      <td>27.00</td>\n",
       "      <td>27.08</td>\n",
       "      <td>27.30</td>\n",
       "      <td>850000.0</td>\n",
       "      <td>5.34</td>\n",
       "      <td>5.18</td>\n",
       "      <td>5.13</td>\n",
       "      <td>5.18</td>\n",
       "      <td>5.24</td>\n",
       "      <td>22904000.0</td>\n",
       "    </tr>\n",
       "    <tr>\n",
       "      <td>2000-01-07</td>\n",
       "      <td>NaN</td>\n",
       "      <td>NaN</td>\n",
       "      <td>NaN</td>\n",
       "      <td>NaN</td>\n",
       "      <td>NaN</td>\n",
       "      <td>NaN</td>\n",
       "      <td>NaN</td>\n",
       "      <td>NaN</td>\n",
       "      <td>NaN</td>\n",
       "      <td>NaN</td>\n",
       "      <td>...</td>\n",
       "      <td>26.75</td>\n",
       "      <td>28.35</td>\n",
       "      <td>26.98</td>\n",
       "      <td>2210000.0</td>\n",
       "      <td>5.63</td>\n",
       "      <td>5.51</td>\n",
       "      <td>5.19</td>\n",
       "      <td>5.69</td>\n",
       "      <td>5.19</td>\n",
       "      <td>23512000.0</td>\n",
       "    </tr>\n",
       "  </tbody>\n",
       "</table>\n",
       "<p>5 rows × 210 columns</p>\n",
       "</div>"
      ],
      "text/plain": [
       "ticker     1746531D GZ Equity                                          \\\n",
       "field                 PX_HIGH PX_LAST PX_LOW PX_MID PX_OPEN PX_VOLUME   \n",
       "date                                                                    \n",
       "2000-01-03                NaN     NaN    NaN    NaN     NaN       NaN   \n",
       "2000-01-04                NaN     NaN    NaN    NaN     NaN       NaN   \n",
       "2000-01-05                NaN     NaN    NaN    NaN     NaN       NaN   \n",
       "2000-01-06                NaN     NaN    NaN    NaN     NaN       NaN   \n",
       "2000-01-07                NaN     NaN    NaN    NaN     NaN       NaN   \n",
       "\n",
       "ticker     AC* MF Equity                        ... TLEVICPO MF Equity         \\\n",
       "field            PX_HIGH PX_LAST PX_LOW PX_MID  ...             PX_LOW PX_MID   \n",
       "date                                            ...                             \n",
       "2000-01-03           NaN     NaN    NaN    NaN  ...              30.44  30.50   \n",
       "2000-01-04           NaN     NaN    NaN    NaN  ...              27.30  27.45   \n",
       "2000-01-05           NaN     NaN    NaN    NaN  ...              25.90  27.15   \n",
       "2000-01-06           NaN     NaN    NaN    NaN  ...              27.00  27.08   \n",
       "2000-01-07           NaN     NaN    NaN    NaN  ...              26.75  28.35   \n",
       "\n",
       "ticker                        WALMEX* MF Equity                                \\\n",
       "field      PX_OPEN  PX_VOLUME           PX_HIGH PX_LAST PX_LOW PX_MID PX_OPEN   \n",
       "date                                                                            \n",
       "2000-01-03   32.20   680000.0              5.14    4.90   4.75   4.89    4.78   \n",
       "2000-01-04   28.80  2980000.0              4.83    4.82   4.73   4.83    4.80   \n",
       "2000-01-05   26.80  3430000.0              5.25    5.21   4.70   5.30    4.80   \n",
       "2000-01-06   27.30   850000.0              5.34    5.18   5.13   5.18    5.24   \n",
       "2000-01-07   26.98  2210000.0              5.63    5.51   5.19   5.69    5.19   \n",
       "\n",
       "ticker                  \n",
       "field        PX_VOLUME  \n",
       "date                    \n",
       "2000-01-03  17132000.0  \n",
       "2000-01-04  20296000.0  \n",
       "2000-01-05  20372000.0  \n",
       "2000-01-06  22904000.0  \n",
       "2000-01-07  23512000.0  \n",
       "\n",
       "[5 rows x 210 columns]"
      ]
     },
     "execution_count": 3,
     "metadata": {},
     "output_type": "execute_result"
    }
   ],
   "source": [
    "#Se genera una tabla pivote\n",
    "bmv = bmv.pivot_table(values=\"value\",\n",
    "                      index=\"date\",\n",
    "                      columns=[\"ticker\", \"field\"])\n",
    "bmv.head()"
   ]
  },
  {
   "cell_type": "code",
   "execution_count": 4,
   "metadata": {},
   "outputs": [
    {
     "data": {
      "text/html": [
       "<div>\n",
       "<style scoped>\n",
       "    .dataframe tbody tr th:only-of-type {\n",
       "        vertical-align: middle;\n",
       "    }\n",
       "\n",
       "    .dataframe tbody tr th {\n",
       "        vertical-align: top;\n",
       "    }\n",
       "\n",
       "    .dataframe thead th {\n",
       "        text-align: right;\n",
       "    }\n",
       "</style>\n",
       "<table border=\"1\" class=\"dataframe\">\n",
       "  <thead>\n",
       "    <tr style=\"text-align: right;\">\n",
       "      <th>field</th>\n",
       "      <th>PX_HIGH</th>\n",
       "      <th>PX_LAST</th>\n",
       "      <th>PX_LOW</th>\n",
       "      <th>PX_MID</th>\n",
       "      <th>PX_OPEN</th>\n",
       "      <th>PX_VOLUME</th>\n",
       "    </tr>\n",
       "    <tr>\n",
       "      <th>date</th>\n",
       "      <th></th>\n",
       "      <th></th>\n",
       "      <th></th>\n",
       "      <th></th>\n",
       "      <th></th>\n",
       "      <th></th>\n",
       "    </tr>\n",
       "  </thead>\n",
       "  <tbody>\n",
       "    <tr>\n",
       "      <td>2000-01-03</td>\n",
       "      <td>8.46</td>\n",
       "      <td>8.14</td>\n",
       "      <td>8.09</td>\n",
       "      <td>8.14</td>\n",
       "      <td>8.35</td>\n",
       "      <td>8755188.0</td>\n",
       "    </tr>\n",
       "    <tr>\n",
       "      <td>2000-01-04</td>\n",
       "      <td>7.89</td>\n",
       "      <td>7.62</td>\n",
       "      <td>7.61</td>\n",
       "      <td>7.61</td>\n",
       "      <td>7.86</td>\n",
       "      <td>26017417.0</td>\n",
       "    </tr>\n",
       "    <tr>\n",
       "      <td>2000-01-05</td>\n",
       "      <td>7.70</td>\n",
       "      <td>7.61</td>\n",
       "      <td>7.45</td>\n",
       "      <td>7.65</td>\n",
       "      <td>7.61</td>\n",
       "      <td>39735576.0</td>\n",
       "    </tr>\n",
       "    <tr>\n",
       "      <td>2000-01-06</td>\n",
       "      <td>7.71</td>\n",
       "      <td>7.50</td>\n",
       "      <td>7.43</td>\n",
       "      <td>7.50</td>\n",
       "      <td>7.65</td>\n",
       "      <td>14939813.0</td>\n",
       "    </tr>\n",
       "    <tr>\n",
       "      <td>2000-01-07</td>\n",
       "      <td>7.59</td>\n",
       "      <td>7.58</td>\n",
       "      <td>7.48</td>\n",
       "      <td>7.58</td>\n",
       "      <td>7.54</td>\n",
       "      <td>46276516.0</td>\n",
       "    </tr>\n",
       "  </tbody>\n",
       "</table>\n",
       "</div>"
      ],
      "text/plain": [
       "field       PX_HIGH  PX_LAST  PX_LOW  PX_MID  PX_OPEN   PX_VOLUME\n",
       "date                                                             \n",
       "2000-01-03     8.46     8.14    8.09    8.14     8.35   8755188.0\n",
       "2000-01-04     7.89     7.62    7.61    7.61     7.86  26017417.0\n",
       "2000-01-05     7.70     7.61    7.45    7.65     7.61  39735576.0\n",
       "2000-01-06     7.71     7.50    7.43    7.50     7.65  14939813.0\n",
       "2000-01-07     7.59     7.58    7.48    7.58     7.54  46276516.0"
      ]
     },
     "execution_count": 4,
     "metadata": {},
     "output_type": "execute_result"
    }
   ],
   "source": [
    "#Se toma la tabla \"CEMEXCPO MF Equity\" \n",
    "cemex = \"CEMEXCPO MF Equity\"\n",
    "cemex_close = bmv[cemex]\n",
    "cemex_close.head()"
   ]
  },
  {
   "cell_type": "code",
   "execution_count": 5,
   "metadata": {},
   "outputs": [
    {
     "data": {
      "text/plain": [
       "date\n",
       "2000-01-03    8.14\n",
       "2000-01-04    7.62\n",
       "2000-01-05    7.61\n",
       "2000-01-06    7.50\n",
       "2000-01-07    7.58\n",
       "              ... \n",
       "2019-09-20    7.98\n",
       "2019-09-23    7.84\n",
       "2019-09-24    7.79\n",
       "2019-09-25    7.78\n",
       "2019-09-26    7.77\n",
       "Name: PX_LAST, Length: 4983, dtype: float64"
      ]
     },
     "execution_count": 5,
     "metadata": {},
     "output_type": "execute_result"
    }
   ],
   "source": [
    "#se genera la variable cemex_last con la columna PX_LAST\n",
    "cemex_last=cemex_close.PX_LAST\n",
    "cemex_last"
   ]
  },
  {
   "cell_type": "code",
   "execution_count": 6,
   "metadata": {},
   "outputs": [
    {
     "data": {
      "text/plain": [
       "DatetimeIndex(['2000-01-03', '2000-01-04', '2000-01-05', '2000-01-06',\n",
       "               '2000-01-07', '2000-01-10', '2000-01-11', '2000-01-12',\n",
       "               '2000-01-13', '2000-01-14',\n",
       "               ...\n",
       "               '2019-09-12', '2019-09-13', '2019-09-17', '2019-09-18',\n",
       "               '2019-09-19', '2019-09-20', '2019-09-23', '2019-09-24',\n",
       "               '2019-09-25', '2019-09-26'],\n",
       "              dtype='datetime64[ns]', name='date', length=4983, freq=None)"
      ]
     },
     "execution_count": 6,
     "metadata": {},
     "output_type": "execute_result"
    }
   ],
   "source": [
    "#Se generan los indices para cemex_last\n",
    "date_index = pd.to_datetime(cemex_last.index,format=None) #cambiar a una fecha en una copia\n",
    "date_index"
   ]
  },
  {
   "cell_type": "code",
   "execution_count": 7,
   "metadata": {},
   "outputs": [
    {
     "data": {
      "text/plain": [
       "date\n",
       "2000-01-03    8.14\n",
       "2000-01-04    7.62\n",
       "2000-01-05    7.61\n",
       "2000-01-06    7.50\n",
       "2000-01-07    7.58\n",
       "Name: PX_LAST, dtype: float64"
      ]
     },
     "execution_count": 7,
     "metadata": {},
     "output_type": "execute_result"
    }
   ],
   "source": [
    "# Asignamos una nueva serie de índices para cemex_last\n",
    "cemex_last.index = date_index\n",
    "cemex_last.head()\n"
   ]
  },
  {
   "cell_type": "code",
   "execution_count": 8,
   "metadata": {},
   "outputs": [
    {
     "data": {
      "text/plain": [
       "date\n",
       "2000-01-03     NaN\n",
       "2000-01-04   -0.52\n",
       "2000-01-05   -0.01\n",
       "2000-01-06   -0.11\n",
       "2000-01-07    0.08\n",
       "              ... \n",
       "2019-09-20    0.22\n",
       "2019-09-23   -0.14\n",
       "2019-09-24   -0.05\n",
       "2019-09-25   -0.01\n",
       "2019-09-26   -0.01\n",
       "Name: PX_LAST, Length: 4983, dtype: float64"
      ]
     },
     "execution_count": 8,
     "metadata": {},
     "output_type": "execute_result"
    }
   ],
   "source": [
    "#Se calcula la diferencia de los valores de cemex_last \n",
    "cemex_diff=cemex_last - cemex_last.shift(1)\n",
    "cemex_diff"
   ]
  },
  {
   "cell_type": "code",
   "execution_count": 9,
   "metadata": {},
   "outputs": [
    {
     "data": {
      "image/png": "[encoded data removed]",
      "text/plain": [
       "<Figure size 432x288 with 1 Axes>"
      ]
     },
     "metadata": {
      "needs_background": "light"
     },
     "output_type": "display_data"
    },
    {
     "name": "stderr",
     "output_type": "stream",
     "text": [
      "C:\\ProgramData\\Anaconda3\\lib\\site-packages\\numpy\\lib\\histograms.py:824: RuntimeWarning: invalid value encountered in greater_equal\n",
      "  keep = (tmp_a >= first_edge)\n",
      "C:\\ProgramData\\Anaconda3\\lib\\site-packages\\numpy\\lib\\histograms.py:825: RuntimeWarning: invalid value encountered in less_equal\n",
      "  keep &= (tmp_a <= last_edge)\n"
     ]
    },
    {
     "data": {
      "image/png": "[encoded data removed]",
      "text/plain": [
       "<Figure size 432x288 with 1 Axes>"
      ]
     },
     "metadata": {
      "needs_background": "light"
     },
     "output_type": "display_data"
    }
   ],
   "source": [
    "# Se generaran dos graficas, el historico y un histograma de cemex_diff.  \n",
    "graf_1=cemex_diff.plot()\n",
    "plt.show()\n",
    "\n",
    "graf_2=plt.hist(cemex_diff,bins=20);\n",
    "plt.show()\n"
   ]
  },
  {
   "cell_type": "code",
   "execution_count": 10,
   "metadata": {},
   "outputs": [
    {
     "data": {
      "image/png": "[encoded data removed]",
      "text/plain": [
       "<Figure size 1296x360 with 2 Axes>"
      ]
     },
     "metadata": {
      "needs_background": "light"
     },
     "output_type": "display_data"
    }
   ],
   "source": [
    "# Se generaran dos graficas, el historico y un histograma de cemex_diff en dos columnas.  \n",
    "\n",
    "fig, axes= plt.subplots(nrows=1, ncols=2, figsize=(18,5))\n",
    "axes[0].plot(cemex_diff)\n",
    "axes[1].hist(cemex_diff,bins=20)\n",
    "fig.tight_layout()"
   ]
  },
  {
   "cell_type": "markdown",
   "metadata": {},
   "source": [
    "----\n",
    "\n",
    "2. Realiza un _downsampling_ de `cemex_diff`: calcula la desviación estándar por trimestre del inicio de la historia hasta el 1 de junio de 2018. Guarda la información dentro la variable `cemex_std` y grafica un histograma con `bins=20`\n"
   ]
  },
  {
   "cell_type": "code",
   "execution_count": 11,
   "metadata": {},
   "outputs": [
    {
     "data": {
      "text/plain": [
       "date\n",
       "1999-12-31    0.206995\n",
       "2000-03-31    0.166336\n",
       "2000-06-30    0.110740\n",
       "2000-09-30    0.104560\n",
       "2000-12-31    0.115343\n",
       "                ...   \n",
       "2017-03-31    0.216523\n",
       "2017-06-30    0.221147\n",
       "2017-09-30    0.215186\n",
       "2017-12-31    0.258683\n",
       "2018-03-31    0.196043\n",
       "Freq: Q-DEC, Name: PX_LAST, Length: 74, dtype: float64"
      ]
     },
     "execution_count": 11,
     "metadata": {},
     "output_type": "execute_result"
    }
   ],
   "source": [
    "# Agrupando valores por trimestre (Iinicial), calculando la desviación estándar.\n",
    "cemex_remp=cemex_diff.loc[:\"2018-06-01\"]\n",
    "cemex_std=cemex_remp.resample(\"Q\",label='left',closed='left').std()\n",
    "cemex_std"
   ]
  },
  {
   "cell_type": "code",
   "execution_count": 12,
   "metadata": {},
   "outputs": [
    {
     "data": {
      "image/png": "[encoded data removed]",
      "text/plain": [
       "<Figure size 432x288 with 1 Axes>"
      ]
     },
     "metadata": {
      "needs_background": "light"
     },
     "output_type": "display_data"
    }
   ],
   "source": [
    "#Se genera un histograma\n",
    "plt.hist(cemex_std,bins=20);\n",
    "plt.grid()\n"
   ]
  },
  {
   "cell_type": "markdown",
   "metadata": {},
   "source": [
    "---\n",
    "\n",
    "3. Realiza nuevamente el ejercicio 3 calculando en este caso la desviación estándar por semana. ¿Qué diferencias observas entre las dos distribuciones de volatilidad?\n"
   ]
  },
  {
   "cell_type": "code",
   "execution_count": 13,
   "metadata": {},
   "outputs": [
    {
     "data": {
      "text/plain": [
       "date\n",
       "2000-01-02    0.264953\n",
       "2000-01-09    0.130958\n",
       "2000-01-16    0.155981\n",
       "2000-01-23    0.202682\n",
       "2000-01-30    0.146390\n",
       "                ...   \n",
       "2018-04-29    0.157348\n",
       "2018-05-06    0.182839\n",
       "2018-05-13    0.217601\n",
       "2018-05-20    0.129923\n",
       "2018-05-27    0.100100\n",
       "Freq: W-SUN, Name: PX_LAST, Length: 961, dtype: float64"
      ]
     },
     "execution_count": 13,
     "metadata": {},
     "output_type": "execute_result"
    }
   ],
   "source": [
    "# Agrupando valores por semana (inicial), con desviación estándar\n",
    "cemex_remp=cemex_diff.loc[:\"2018-06-01\"]\n",
    "cemex_std=cemex_remp.resample(\"W\",label='left',closed='left').std()\n",
    "cemex_std"
   ]
  },
  {
   "cell_type": "code",
   "execution_count": 14,
   "metadata": {},
   "outputs": [
    {
     "data": {
      "image/png": "[encoded data removed]",
      "text/plain": [
       "<Figure size 432x288 with 1 Axes>"
      ]
     },
     "metadata": {
      "needs_background": "light"
     },
     "output_type": "display_data"
    }
   ],
   "source": [
    "#Se genera un histograma\n",
    "plt.hist(cemex_std,bins=20);\n",
    "plt.grid()\n"
   ]
  },
  {
   "cell_type": "markdown",
   "metadata": {},
   "source": [
    "¿Qué diferencias observas entre las dos distribuciones de volatilidad?\n",
    "\n",
    "En la agrupación por trimestre se pierde información, en cambio en la gráfica por semana sí se muestra. Pero para eficientar procesos puede ser de mucha ayuda la gráfica trimestral, dado que ambas gráficas dan un bosquejo parecido del comportamiento de los datos."
   ]
  },
  {
   "cell_type": "markdown",
   "metadata": {},
   "source": [
    "---\n",
    "\n",
    "4. En este ejercicio analizaremos la volatilidad por mes considerando `cemex_diff`. Corre el siguiente código y explica que hace:\n",
    "\n",
    "```python\n",
    "months = cemex_diff.index.strftime(\"%B\")\n",
    "cemex_diff.groupby(months).mean().plot(kind=\"bar\")\n",
    "```\n",
    "\n",
    "¿Cómo podrías explicar la gráfica resultante?\n",
    "\n"
   ]
  },
  {
   "cell_type": "code",
   "execution_count": 15,
   "metadata": {},
   "outputs": [
    {
     "data": {
      "text/plain": [
       "<matplotlib.axes._subplots.AxesSubplot at 0x2522b504fc8>"
      ]
     },
     "execution_count": 15,
     "metadata": {},
     "output_type": "execute_result"
    },
    {
     "data": {
      "image/png": "[encoded data removed]",
      "text/plain": [
       "<Figure size 432x288 with 1 Axes>"
      ]
     },
     "metadata": {
      "needs_background": "light"
     },
     "output_type": "display_data"
    }
   ],
   "source": [
    "#Agrupando valores por mes sobre la media.\n",
    "#La diferencia de los precios de un día y el siguiente (cemex_diff) se convierte el indice de fechas en Meses (strftime).\n",
    "months = cemex_diff.index.strftime(\"%B\")\n",
    "#Se genera una gráfica con la media de los valores de cemex_diff con respecto a los meses, king=\"bar\" gráfica las barras \n",
    "cemex_diff.groupby(months).mean().plot(kind=\"bar\")"
   ]
  },
  {
   "cell_type": "markdown",
   "metadata": {},
   "source": [
    "¿Cómo podrías explicar la gráfica resultante? \n",
    "\n",
    "La gráfica representa el promedio mensual de la volatilidad que hay en la diferencia de los precios entre un día y el siguiente, con esto se observa que disminuye la volatilidad en los meses de Febrero, Julio, Octubre y Septiembre. "
   ]
  },
  {
   "cell_type": "markdown",
   "metadata": {},
   "source": [
    "---\n",
    "\n",
    "5. Realiza nuevamente el ejercicio 4 considerando `cemexs_last`. ¿Por qué difieren las gráficas?\n"
   ]
  },
  {
   "cell_type": "code",
   "execution_count": 16,
   "metadata": {},
   "outputs": [
    {
     "data": {
      "text/plain": [
       "<matplotlib.axes._subplots.AxesSubplot at 0x2522b4b5b08>"
      ]
     },
     "execution_count": 16,
     "metadata": {},
     "output_type": "execute_result"
    },
    {
     "data": {
      "image/png": "[encoded data removed]",
      "text/plain": [
       "<Figure size 432x288 with 1 Axes>"
      ]
     },
     "metadata": {
      "needs_background": "light"
     },
     "output_type": "display_data"
    }
   ],
   "source": [
    "months = cemex_last.index.strftime(\"%B\")\n",
    "cemex_last.groupby(months).mean().plot(kind=\"bar\")"
   ]
  },
  {
   "cell_type": "markdown",
   "metadata": {},
   "source": [
    "¿Por qué difieren las gráficas?\n",
    "\n",
    "La primer gráfica representa el promedio mensual de la volatilidad de cemex_diff (la diferencia de los precios entre un día y el siguiente), se observa que disminuye la volatilidad en los meses de Febrero, Julio, Octubre y Septiembre. \n",
    "\n",
    "La segunda gráfica representa el promedio mensual de los precios de cada día.\n",
    "\n",
    "La diferencia que se tiene es que en una calculamos la volatilidad que existe sobre la diferencia de los precios de un día y el siguiente  y la otra sólo se muestra la media de los valores por mes."
   ]
  },
  {
   "cell_type": "code",
   "execution_count": null,
   "metadata": {},
   "outputs": [],
   "source": []
  }
 ],
 "metadata": {
  "kernelspec": {
   "display_name": "Python 3",
   "language": "python",
   "name": "python3"
  },
  "language_info": {
   "codemirror_mode": {
    "name": "ipython",
    "version": 3
   },
   "file_extension": ".py",
   "mimetype": "text/x-python",
   "name": "python",
   "nbconvert_exporter": "python",
   "pygments_lexer": "ipython3",
   "version": "3.7.4"
  }
 },
 "nbformat": 4,
 "nbformat_minor": 2
}
