{
 "cells": [
  {
   "cell_type": "markdown",
   "metadata": {},
   "source": [
    "# PROYECTO FINAL PORTAFOLIOS"
   ]
  },
  {
   "cell_type": "markdown",
   "metadata": {},
   "source": [
    "El objetivo del examen final es construir un portafolio riesgoso con 7 acciones e invertir en un\n",
    "portafolio completo que maximice tu utilidad. Considera una tasa libre de riesgo de 5.0%, un premio\n",
    "por riesgo de mercado de 10.0% y un nivel de aversión al riesgo A=3.\n",
    "\n",
    "\n",
    "Para las 7 acciones seleccionadas, calcula: "
   ]
  },
  {
   "cell_type": "markdown",
   "metadata": {},
   "source": [
    "#### 1. Rendimiento esperado diario y anual bajo los siguientes modelos:\n",
    "\n",
    "#### a. Modelo de rendimiento promedio constante \n"
   ]
  },
  {
   "cell_type": "code",
   "execution_count": 1,
   "metadata": {},
   "outputs": [],
   "source": [
    "import numpy as np\n",
    "import pandas as pd\n",
    "import matplotlib.pyplot as plt\n",
    "import seaborn as sns\n",
    "import statsmodels.api as sm\n",
    "import scipy.optimize as optimize\n",
    "from scipy.stats import norm\n",
    "import math\n",
    "pd.core.common.is_list_like = pd.api.types.is_list_like"
   ]
  },
  {
   "cell_type": "code",
   "execution_count": 2,
   "metadata": {},
   "outputs": [
    {
     "data": {
      "text/html": [
       "<div>\n",
       "<style scoped>\n",
       "    .dataframe tbody tr th:only-of-type {\n",
       "        vertical-align: middle;\n",
       "    }\n",
       "\n",
       "    .dataframe tbody tr th {\n",
       "        vertical-align: top;\n",
       "    }\n",
       "\n",
       "    .dataframe thead th {\n",
       "        text-align: right;\n",
       "    }\n",
       "</style>\n",
       "<table border=\"1\" class=\"dataframe\">\n",
       "  <thead>\n",
       "    <tr style=\"text-align: right;\">\n",
       "      <th></th>\n",
       "      <th>KIMBERA</th>\n",
       "      <th>FEMSAUBD</th>\n",
       "      <th>TLEVICPO</th>\n",
       "      <th>LABB</th>\n",
       "      <th>KOFUBL</th>\n",
       "      <th>ASURB</th>\n",
       "      <th>OMAB</th>\n",
       "      <th>MEXBOL</th>\n",
       "    </tr>\n",
       "    <tr>\n",
       "      <th>DATE</th>\n",
       "      <th></th>\n",
       "      <th></th>\n",
       "      <th></th>\n",
       "      <th></th>\n",
       "      <th></th>\n",
       "      <th></th>\n",
       "      <th></th>\n",
       "      <th></th>\n",
       "    </tr>\n",
       "  </thead>\n",
       "  <tbody>\n",
       "    <tr>\n",
       "      <td>2016-01-04</td>\n",
       "      <td>-0.029973</td>\n",
       "      <td>-0.024810</td>\n",
       "      <td>-0.018232</td>\n",
       "      <td>0.040433</td>\n",
       "      <td>-0.029136</td>\n",
       "      <td>-0.022961</td>\n",
       "      <td>-0.022007</td>\n",
       "      <td>-0.020099</td>\n",
       "    </tr>\n",
       "    <tr>\n",
       "      <td>2016-01-05</td>\n",
       "      <td>-0.006895</td>\n",
       "      <td>0.001142</td>\n",
       "      <td>-0.007882</td>\n",
       "      <td>-0.044414</td>\n",
       "      <td>-0.012220</td>\n",
       "      <td>-0.022074</td>\n",
       "      <td>-0.002324</td>\n",
       "      <td>-0.001710</td>\n",
       "    </tr>\n",
       "    <tr>\n",
       "      <td>2016-01-06</td>\n",
       "      <td>0.006171</td>\n",
       "      <td>-0.009062</td>\n",
       "      <td>-0.016106</td>\n",
       "      <td>-0.008715</td>\n",
       "      <td>0.012624</td>\n",
       "      <td>-0.004549</td>\n",
       "      <td>0.005516</td>\n",
       "      <td>-0.008337</td>\n",
       "    </tr>\n",
       "    <tr>\n",
       "      <td>2016-01-07</td>\n",
       "      <td>0.000767</td>\n",
       "      <td>-0.007866</td>\n",
       "      <td>-0.001991</td>\n",
       "      <td>-0.029304</td>\n",
       "      <td>-0.000997</td>\n",
       "      <td>-0.005432</td>\n",
       "      <td>-0.013288</td>\n",
       "      <td>-0.024696</td>\n",
       "    </tr>\n",
       "    <tr>\n",
       "      <td>2016-01-08</td>\n",
       "      <td>-0.013023</td>\n",
       "      <td>-0.016308</td>\n",
       "      <td>0.015183</td>\n",
       "      <td>-0.015094</td>\n",
       "      <td>-0.012729</td>\n",
       "      <td>-0.004118</td>\n",
       "      <td>-0.016185</td>\n",
       "      <td>-0.009744</td>\n",
       "    </tr>\n",
       "    <tr>\n",
       "      <td>...</td>\n",
       "      <td>...</td>\n",
       "      <td>...</td>\n",
       "      <td>...</td>\n",
       "      <td>...</td>\n",
       "      <td>...</td>\n",
       "      <td>...</td>\n",
       "      <td>...</td>\n",
       "      <td>...</td>\n",
       "    </tr>\n",
       "    <tr>\n",
       "      <td>2019-12-30</td>\n",
       "      <td>-0.006964</td>\n",
       "      <td>0.002012</td>\n",
       "      <td>-0.012944</td>\n",
       "      <td>-0.032292</td>\n",
       "      <td>-0.001738</td>\n",
       "      <td>-0.005868</td>\n",
       "      <td>-0.016583</td>\n",
       "      <td>-0.013647</td>\n",
       "    </tr>\n",
       "    <tr>\n",
       "      <td>2019-12-31</td>\n",
       "      <td>-0.025974</td>\n",
       "      <td>-0.003347</td>\n",
       "      <td>0.003165</td>\n",
       "      <td>0.006997</td>\n",
       "      <td>0.000000</td>\n",
       "      <td>-0.000056</td>\n",
       "      <td>0.004889</td>\n",
       "      <td>-0.002668</td>\n",
       "    </tr>\n",
       "    <tr>\n",
       "      <td>2020-01-01</td>\n",
       "      <td>0.000000</td>\n",
       "      <td>0.000000</td>\n",
       "      <td>0.000000</td>\n",
       "      <td>0.000000</td>\n",
       "      <td>0.000000</td>\n",
       "      <td>0.000000</td>\n",
       "      <td>0.000000</td>\n",
       "      <td>0.000000</td>\n",
       "    </tr>\n",
       "    <tr>\n",
       "      <td>2020-01-02</td>\n",
       "      <td>0.015733</td>\n",
       "      <td>0.015783</td>\n",
       "      <td>0.017129</td>\n",
       "      <td>0.003741</td>\n",
       "      <td>0.005484</td>\n",
       "      <td>0.018190</td>\n",
       "      <td>0.003032</td>\n",
       "      <td>0.020583</td>\n",
       "    </tr>\n",
       "    <tr>\n",
       "      <td>2020-01-03</td>\n",
       "      <td>-0.000525</td>\n",
       "      <td>0.010248</td>\n",
       "      <td>0.002216</td>\n",
       "      <td>0.000532</td>\n",
       "      <td>0.008138</td>\n",
       "      <td>0.004910</td>\n",
       "      <td>-0.004710</td>\n",
       "      <td>0.004222</td>\n",
       "    </tr>\n",
       "  </tbody>\n",
       "</table>\n",
       "<p>1045 rows × 8 columns</p>\n",
       "</div>"
      ],
      "text/plain": [
       "             KIMBERA  FEMSAUBD  TLEVICPO      LABB    KOFUBL     ASURB  \\\n",
       "DATE                                                                     \n",
       "2016-01-04 -0.029973 -0.024810 -0.018232  0.040433 -0.029136 -0.022961   \n",
       "2016-01-05 -0.006895  0.001142 -0.007882 -0.044414 -0.012220 -0.022074   \n",
       "2016-01-06  0.006171 -0.009062 -0.016106 -0.008715  0.012624 -0.004549   \n",
       "2016-01-07  0.000767 -0.007866 -0.001991 -0.029304 -0.000997 -0.005432   \n",
       "2016-01-08 -0.013023 -0.016308  0.015183 -0.015094 -0.012729 -0.004118   \n",
       "...              ...       ...       ...       ...       ...       ...   \n",
       "2019-12-30 -0.006964  0.002012 -0.012944 -0.032292 -0.001738 -0.005868   \n",
       "2019-12-31 -0.025974 -0.003347  0.003165  0.006997  0.000000 -0.000056   \n",
       "2020-01-01  0.000000  0.000000  0.000000  0.000000  0.000000  0.000000   \n",
       "2020-01-02  0.015733  0.015783  0.017129  0.003741  0.005484  0.018190   \n",
       "2020-01-03 -0.000525  0.010248  0.002216  0.000532  0.008138  0.004910   \n",
       "\n",
       "                OMAB    MEXBOL  \n",
       "DATE                            \n",
       "2016-01-04 -0.022007 -0.020099  \n",
       "2016-01-05 -0.002324 -0.001710  \n",
       "2016-01-06  0.005516 -0.008337  \n",
       "2016-01-07 -0.013288 -0.024696  \n",
       "2016-01-08 -0.016185 -0.009744  \n",
       "...              ...       ...  \n",
       "2019-12-30 -0.016583 -0.013647  \n",
       "2019-12-31  0.004889 -0.002668  \n",
       "2020-01-01  0.000000  0.000000  \n",
       "2020-01-02  0.003032  0.020583  \n",
       "2020-01-03 -0.004710  0.004222  \n",
       "\n",
       "[1045 rows x 8 columns]"
      ]
     },
     "execution_count": 2,
     "metadata": {},
     "output_type": "execute_result"
    }
   ],
   "source": [
    "\"\"\"Se buscan los datos y se muestran las 7 acciones atrabajar \"\"\"\n",
    "\n",
    "ipc_path = \"../Tarea/ipc.xlsx\" \n",
    "market = pd.read_excel(ipc_path, index_col=0)\n",
    "market.columns = [c.replace(\" MF Equity\", \"\").replace(\" INDEX\", \"\").replace(\"*\", \"\") for c in market.columns]\n",
    "portafolio_i = market[['KIMBERA', 'FEMSAUBD','TLEVICPO','LABB','KOFUBL','ASURB','OMAB', 'MEXBOL']]\n",
    "portafolio_i = portafolio_i.pct_change(1)\n",
    "portafolio_i.dropna(axis=0,inplace=True)\n",
    "\n",
    "portafolio_i"
   ]
  },
  {
   "cell_type": "markdown",
   "metadata": {},
   "source": [
    "#### Se calcula el modelo de rendimiento contante para cada acción"
   ]
  },
  {
   "cell_type": "code",
   "execution_count": 3,
   "metadata": {},
   "outputs": [
    {
     "data": {
      "text/html": [
       "<div>\n",
       "<style scoped>\n",
       "    .dataframe tbody tr th:only-of-type {\n",
       "        vertical-align: middle;\n",
       "    }\n",
       "\n",
       "    .dataframe tbody tr th {\n",
       "        vertical-align: top;\n",
       "    }\n",
       "\n",
       "    .dataframe thead th {\n",
       "        text-align: right;\n",
       "    }\n",
       "</style>\n",
       "<table border=\"1\" class=\"dataframe\">\n",
       "  <thead>\n",
       "    <tr style=\"text-align: right;\">\n",
       "      <th></th>\n",
       "      <th>KIMBERA</th>\n",
       "      <th>FEMSAUBD</th>\n",
       "      <th>TLEVICPO</th>\n",
       "      <th>LABB</th>\n",
       "      <th>KOFUBL</th>\n",
       "      <th>ASURB</th>\n",
       "      <th>OMAB</th>\n",
       "    </tr>\n",
       "  </thead>\n",
       "  <tbody>\n",
       "    <tr>\n",
       "      <td>Rendimiento Diario</td>\n",
       "      <td>0.000066</td>\n",
       "      <td>0.000185</td>\n",
       "      <td>-0.000547</td>\n",
       "      <td>0.000521</td>\n",
       "      <td>0.000016</td>\n",
       "      <td>0.000490</td>\n",
       "      <td>0.000631</td>\n",
       "    </tr>\n",
       "    <tr>\n",
       "      <td>Rendimiento Anual</td>\n",
       "      <td>0.016722</td>\n",
       "      <td>0.046561</td>\n",
       "      <td>-0.137916</td>\n",
       "      <td>0.131383</td>\n",
       "      <td>0.004156</td>\n",
       "      <td>0.123539</td>\n",
       "      <td>0.158900</td>\n",
       "    </tr>\n",
       "    <tr>\n",
       "      <td>Varianza Diaria</td>\n",
       "      <td>0.000245</td>\n",
       "      <td>0.000128</td>\n",
       "      <td>0.000313</td>\n",
       "      <td>0.000463</td>\n",
       "      <td>0.000152</td>\n",
       "      <td>0.000224</td>\n",
       "      <td>0.000253</td>\n",
       "    </tr>\n",
       "    <tr>\n",
       "      <td>Varianza Anual</td>\n",
       "      <td>0.062491</td>\n",
       "      <td>0.032732</td>\n",
       "      <td>0.079691</td>\n",
       "      <td>0.118057</td>\n",
       "      <td>0.038728</td>\n",
       "      <td>0.057067</td>\n",
       "      <td>0.064419</td>\n",
       "    </tr>\n",
       "    <tr>\n",
       "      <td>Desviación Estandar Diaria</td>\n",
       "      <td>0.015655</td>\n",
       "      <td>0.011330</td>\n",
       "      <td>0.017678</td>\n",
       "      <td>0.021517</td>\n",
       "      <td>0.012324</td>\n",
       "      <td>0.014960</td>\n",
       "      <td>0.015894</td>\n",
       "    </tr>\n",
       "    <tr>\n",
       "      <td>Desviación Estandar Anual</td>\n",
       "      <td>3.944935</td>\n",
       "      <td>2.855054</td>\n",
       "      <td>4.454871</td>\n",
       "      <td>5.422206</td>\n",
       "      <td>3.105588</td>\n",
       "      <td>3.769828</td>\n",
       "      <td>4.005330</td>\n",
       "    </tr>\n",
       "  </tbody>\n",
       "</table>\n",
       "</div>"
      ],
      "text/plain": [
       "                             KIMBERA  FEMSAUBD  TLEVICPO      LABB    KOFUBL  \\\n",
       "Rendimiento Diario          0.000066  0.000185 -0.000547  0.000521  0.000016   \n",
       "Rendimiento Anual           0.016722  0.046561 -0.137916  0.131383  0.004156   \n",
       "Varianza Diaria             0.000245  0.000128  0.000313  0.000463  0.000152   \n",
       "Varianza Anual              0.062491  0.032732  0.079691  0.118057  0.038728   \n",
       "Desviación Estandar Diaria  0.015655  0.011330  0.017678  0.021517  0.012324   \n",
       "Desviación Estandar Anual   3.944935  2.855054  4.454871  5.422206  3.105588   \n",
       "\n",
       "                               ASURB      OMAB  \n",
       "Rendimiento Diario          0.000490  0.000631  \n",
       "Rendimiento Anual           0.123539  0.158900  \n",
       "Varianza Diaria             0.000224  0.000253  \n",
       "Varianza Anual              0.057067  0.064419  \n",
       "Desviación Estandar Diaria  0.014960  0.015894  \n",
       "Desviación Estandar Anual   3.769828  4.005330  "
      ]
     },
     "execution_count": 3,
     "metadata": {},
     "output_type": "execute_result"
    }
   ],
   "source": [
    "Rendimuent_dia = portafolio_i.mean()\n",
    "Rendimuent_anio = portafolio_i.mean() * 252\n",
    "Varianza_dia = portafolio_i.var()\n",
    "Varianza_anio = portafolio_i.var() * 255\n",
    "Desviación_día = portafolio_i.std()\n",
    "Desviación_anio =portafolio_i.std() * 252\n",
    "Matriz_rendimientos = pd.DataFrame([Rendimuent_dia,Rendimuent_anio,Varianza_dia,Varianza_anio,Desviación_día,Desviación_anio ],index=('Rendimiento Diario', 'Rendimiento Anual', 'Varianza Diaria', 'Varianza Anual', 'Desviación Estandar Diaria', \"Desviación Estandar Anual\"))\n",
    "Matriz_rendimientos.drop('MEXBOL',axis=1,inplace=True)\n",
    "Matriz_rendimientos"
   ]
  },
  {
   "cell_type": "markdown",
   "metadata": {},
   "source": [
    "#### b. Modelo CAPM "
   ]
  },
  {
   "cell_type": "code",
   "execution_count": 4,
   "metadata": {},
   "outputs": [
    {
     "name": "stdout",
     "output_type": "stream",
     "text": [
      "                            OLS Regression Results                            \n",
      "==============================================================================\n",
      "Dep. Variable:                 MEXBOL   R-squared:                       0.662\n",
      "Model:                            OLS   Adj. R-squared:                  0.659\n",
      "Method:                 Least Squares   F-statistic:                     289.8\n",
      "Date:                Mon, 22 Jun 2020   Prob (F-statistic):          5.36e-239\n",
      "Time:                        21:19:35   Log-Likelihood:                 4077.3\n",
      "No. Observations:                1045   AIC:                            -8139.\n",
      "Df Residuals:                    1037   BIC:                            -8099.\n",
      "Df Model:                           7                                         \n",
      "Covariance Type:            nonrobust                                         \n",
      "==============================================================================\n",
      "                 coef    std err          t      P>|t|      [0.025      0.975]\n",
      "------------------------------------------------------------------------------\n",
      "const      -6.209e-05      0.000     -0.408      0.683      -0.000       0.000\n",
      "KIMBERA        0.1128      0.010     10.855      0.000       0.092       0.133\n",
      "FEMSAUBD       0.2388      0.016     15.263      0.000       0.208       0.270\n",
      "TLEVICPO       0.1032      0.009     11.431      0.000       0.086       0.121\n",
      "LABB           0.0484      0.007      6.640      0.000       0.034       0.063\n",
      "KOFUBL         0.0942      0.015      6.490      0.000       0.066       0.123\n",
      "ASURB          0.1039      0.012      8.515      0.000       0.080       0.128\n",
      "OMAB           0.0963      0.011      8.521      0.000       0.074       0.118\n",
      "==============================================================================\n",
      "Omnibus:                       52.336   Durbin-Watson:                   1.976\n",
      "Prob(Omnibus):                  0.000   Jarque-Bera (JB):              121.201\n",
      "Skew:                          -0.277   Prob(JB):                     4.80e-27\n",
      "Kurtosis:                       4.574   Cond. No.                         118.\n",
      "==============================================================================\n",
      "\n",
      "Warnings:\n",
      "[1] Standard Errors assume that the covariance matrix of the errors is correctly specified.\n"
     ]
    },
    {
     "name": "stderr",
     "output_type": "stream",
     "text": [
      "C:\\ProgramData\\Anaconda3\\lib\\site-packages\\numpy\\core\\fromnumeric.py:2389: FutureWarning: Method .ptp is deprecated and will be removed in a future version. Use numpy.ptp instead.\n",
      "  return ptp(axis=axis, out=out, **kwargs)\n"
     ]
    }
   ],
   "source": [
    "y = portafolio_i['MEXBOL']\n",
    "X = portafolio_i.drop('MEXBOL',axis=1,inplace=False) #SIN MEXBOL\n",
    "X1 = sm.add_constant(X)\n",
    "model = sm.OLS(y, X1)\n",
    "results = model.fit()\n",
    "print(results.summary())\n"
   ]
  },
  {
   "cell_type": "markdown",
   "metadata": {},
   "source": [
    "#### Se muestra la beta de cada acción y se clasifican  en defensivas o agresivas"
   ]
  },
  {
   "cell_type": "code",
   "execution_count": 5,
   "metadata": {},
   "outputs": [
    {
     "data": {
      "text/html": [
       "<div>\n",
       "<style scoped>\n",
       "    .dataframe tbody tr th:only-of-type {\n",
       "        vertical-align: middle;\n",
       "    }\n",
       "\n",
       "    .dataframe tbody tr th {\n",
       "        vertical-align: top;\n",
       "    }\n",
       "\n",
       "    .dataframe thead th {\n",
       "        text-align: right;\n",
       "    }\n",
       "</style>\n",
       "<table border=\"1\" class=\"dataframe\">\n",
       "  <thead>\n",
       "    <tr style=\"text-align: right;\">\n",
       "      <th></th>\n",
       "      <th>Beta</th>\n",
       "      <th>Categoría</th>\n",
       "    </tr>\n",
       "  </thead>\n",
       "  <tbody>\n",
       "    <tr>\n",
       "      <td>KIMBERA</td>\n",
       "      <td>0.1128</td>\n",
       "      <td>No riesgoso</td>\n",
       "    </tr>\n",
       "    <tr>\n",
       "      <td>FEMSAUBD</td>\n",
       "      <td>0.2388</td>\n",
       "      <td>No riesgoso</td>\n",
       "    </tr>\n",
       "    <tr>\n",
       "      <td>TLEVICPO</td>\n",
       "      <td>0.1032</td>\n",
       "      <td>No riesgoso</td>\n",
       "    </tr>\n",
       "    <tr>\n",
       "      <td>LABB</td>\n",
       "      <td>0.0484</td>\n",
       "      <td>No riesgoso</td>\n",
       "    </tr>\n",
       "    <tr>\n",
       "      <td>KOFUBL</td>\n",
       "      <td>0.0942</td>\n",
       "      <td>No riesgoso</td>\n",
       "    </tr>\n",
       "    <tr>\n",
       "      <td>ASURB</td>\n",
       "      <td>0.1039</td>\n",
       "      <td>No riesgoso</td>\n",
       "    </tr>\n",
       "    <tr>\n",
       "      <td>OMAB</td>\n",
       "      <td>0.0963</td>\n",
       "      <td>No riesgoso</td>\n",
       "    </tr>\n",
       "  </tbody>\n",
       "</table>\n",
       "</div>"
      ],
      "text/plain": [
       "            Beta    Categoría\n",
       "KIMBERA   0.1128  No riesgoso\n",
       "FEMSAUBD  0.2388  No riesgoso\n",
       "TLEVICPO  0.1032  No riesgoso\n",
       "LABB      0.0484  No riesgoso\n",
       "KOFUBL    0.0942  No riesgoso\n",
       "ASURB     0.1039  No riesgoso\n",
       "OMAB      0.0963  No riesgoso"
      ]
     },
     "execution_count": 5,
     "metadata": {},
     "output_type": "execute_result"
    }
   ],
   "source": [
    "Betas = pd.read_html(results.summary().tables[1].as_html(), header=0, index_col=0)[0]\n",
    "Betas.drop(['std err','t','P>|t|','[0.025','0.975]'],axis=1,inplace=True)\n",
    "Betas.drop(['const'],axis=0,inplace=True)\n",
    "Betas.columns = ['Beta']\n",
    "    \n",
    "def categorizar(fila):\n",
    "    Beta = fila.Beta\n",
    "    if Beta > 1:\n",
    "        return \"Riesgoso\"\n",
    "    \n",
    "    else :\n",
    "        return \"No riesgoso\"\n",
    "\n",
    "Betas[\"Categoría\"] = Betas.apply(categorizar, axis=1)    \n",
    "Betas"
   ]
  },
  {
   "cell_type": "markdown",
   "metadata": {},
   "source": [
    "### 2. Matriz varianza-covarianza "
   ]
  },
  {
   "cell_type": "code",
   "execution_count": 6,
   "metadata": {},
   "outputs": [
    {
     "data": {
      "text/html": [
       "<div>\n",
       "<style scoped>\n",
       "    .dataframe tbody tr th:only-of-type {\n",
       "        vertical-align: middle;\n",
       "    }\n",
       "\n",
       "    .dataframe tbody tr th {\n",
       "        vertical-align: top;\n",
       "    }\n",
       "\n",
       "    .dataframe thead th {\n",
       "        text-align: right;\n",
       "    }\n",
       "</style>\n",
       "<table border=\"1\" class=\"dataframe\">\n",
       "  <thead>\n",
       "    <tr style=\"text-align: right;\">\n",
       "      <th></th>\n",
       "      <th>KIMBERA</th>\n",
       "      <th>FEMSAUBD</th>\n",
       "      <th>TLEVICPO</th>\n",
       "      <th>LABB</th>\n",
       "      <th>KOFUBL</th>\n",
       "      <th>ASURB</th>\n",
       "      <th>OMAB</th>\n",
       "    </tr>\n",
       "  </thead>\n",
       "  <tbody>\n",
       "    <tr>\n",
       "      <td>KIMBERA</td>\n",
       "      <td>0.000245</td>\n",
       "      <td>0.000038</td>\n",
       "      <td>0.000027</td>\n",
       "      <td>0.000070</td>\n",
       "      <td>0.000048</td>\n",
       "      <td>0.000048</td>\n",
       "      <td>0.000057</td>\n",
       "    </tr>\n",
       "    <tr>\n",
       "      <td>FEMSAUBD</td>\n",
       "      <td>0.000038</td>\n",
       "      <td>0.000128</td>\n",
       "      <td>0.000039</td>\n",
       "      <td>0.000029</td>\n",
       "      <td>0.000066</td>\n",
       "      <td>0.000045</td>\n",
       "      <td>0.000049</td>\n",
       "    </tr>\n",
       "    <tr>\n",
       "      <td>TLEVICPO</td>\n",
       "      <td>0.000027</td>\n",
       "      <td>0.000039</td>\n",
       "      <td>0.000313</td>\n",
       "      <td>0.000043</td>\n",
       "      <td>0.000049</td>\n",
       "      <td>0.000064</td>\n",
       "      <td>0.000041</td>\n",
       "    </tr>\n",
       "    <tr>\n",
       "      <td>LABB</td>\n",
       "      <td>0.000070</td>\n",
       "      <td>0.000029</td>\n",
       "      <td>0.000043</td>\n",
       "      <td>0.000463</td>\n",
       "      <td>0.000029</td>\n",
       "      <td>0.000048</td>\n",
       "      <td>0.000038</td>\n",
       "    </tr>\n",
       "    <tr>\n",
       "      <td>KOFUBL</td>\n",
       "      <td>0.000048</td>\n",
       "      <td>0.000066</td>\n",
       "      <td>0.000049</td>\n",
       "      <td>0.000029</td>\n",
       "      <td>0.000152</td>\n",
       "      <td>0.000052</td>\n",
       "      <td>0.000048</td>\n",
       "    </tr>\n",
       "    <tr>\n",
       "      <td>ASURB</td>\n",
       "      <td>0.000048</td>\n",
       "      <td>0.000045</td>\n",
       "      <td>0.000064</td>\n",
       "      <td>0.000048</td>\n",
       "      <td>0.000052</td>\n",
       "      <td>0.000224</td>\n",
       "      <td>0.000119</td>\n",
       "    </tr>\n",
       "    <tr>\n",
       "      <td>OMAB</td>\n",
       "      <td>0.000057</td>\n",
       "      <td>0.000049</td>\n",
       "      <td>0.000041</td>\n",
       "      <td>0.000038</td>\n",
       "      <td>0.000048</td>\n",
       "      <td>0.000119</td>\n",
       "      <td>0.000253</td>\n",
       "    </tr>\n",
       "  </tbody>\n",
       "</table>\n",
       "</div>"
      ],
      "text/plain": [
       "           KIMBERA  FEMSAUBD  TLEVICPO      LABB    KOFUBL     ASURB      OMAB\n",
       "KIMBERA   0.000245  0.000038  0.000027  0.000070  0.000048  0.000048  0.000057\n",
       "FEMSAUBD  0.000038  0.000128  0.000039  0.000029  0.000066  0.000045  0.000049\n",
       "TLEVICPO  0.000027  0.000039  0.000313  0.000043  0.000049  0.000064  0.000041\n",
       "LABB      0.000070  0.000029  0.000043  0.000463  0.000029  0.000048  0.000038\n",
       "KOFUBL    0.000048  0.000066  0.000049  0.000029  0.000152  0.000052  0.000048\n",
       "ASURB     0.000048  0.000045  0.000064  0.000048  0.000052  0.000224  0.000119\n",
       "OMAB      0.000057  0.000049  0.000041  0.000038  0.000048  0.000119  0.000253"
      ]
     },
     "execution_count": 6,
     "metadata": {},
     "output_type": "execute_result"
    }
   ],
   "source": [
    "covarianza = X.cov()\n",
    "#covarianza.drop('MEXBOL',axis=1,inplace=True)\n",
    "covarianza"
   ]
  },
  {
   "cell_type": "markdown",
   "metadata": {},
   "source": [
    "### Utilizando los rendimientos esperados bajo el modelo CAPM, construye:\n",
    "### 3. Frontera de carteras de mínima varianza y frontera eficiente / graficar "
   ]
  },
  {
   "cell_type": "code",
   "execution_count": 7,
   "metadata": {},
   "outputs": [
    {
     "name": "stdout",
     "output_type": "stream",
     "text": [
      "Pesos iniciales:  [0.14285714 0.14285714 0.14285714 0.14285714 0.14285714 0.14285714\n",
      " 0.14285714]\n"
     ]
    }
   ],
   "source": [
    "#Creamos matriz de pesos para cada acción\n",
    "pesos_i = []\n",
    "cont = len(X.columns)\n",
    "\n",
    "\n",
    "for i in range(cont):\n",
    "    pesos_i.append(1/cont)\n",
    "\n",
    "w = np.array(pesos_i)\n",
    "print(\"Pesos iniciales: \", w)\n"
   ]
  },
  {
   "cell_type": "code",
   "execution_count": 8,
   "metadata": {},
   "outputs": [],
   "source": [
    "r = np.array(np.mean(X))\n",
    "C = np.cov(X.transpose())"
   ]
  },
  {
   "cell_type": "code",
   "execution_count": 9,
   "metadata": {},
   "outputs": [],
   "source": [
    "def mu(w,r):\n",
    "    '''Rendimiento portafolio anualizado'''\n",
    "    return sum(w * r * 252) \n",
    "\n",
    "\n",
    "def sigma(w, C):\n",
    "    '''Desv STD portadolio anualizada'''\n",
    "    return np.sqrt(np.dot(w.T,np.dot(C * 252, w)))\n",
    "    #np.dot(w,np.dot(C,w.T)) ** (1/2) * 252 ** (1/2)\n",
    "\n",
    "    \n",
    "def sharpe(w):\n",
    "    '''Sharpe ratio con rf de 5%'''\n",
    "    rf = .05\n",
    "    return (mu(w,r) - rf) / sigma(w,C)\n",
    "\n",
    "\n",
    "def neg_sharpe(w):\n",
    "    '''Sharpe ratio negativo'''\n",
    "    return -sharpe(w)\n",
    "\n",
    "\n"
   ]
  },
  {
   "cell_type": "code",
   "execution_count": 10,
   "metadata": {},
   "outputs": [
    {
     "name": "stdout",
     "output_type": "stream",
     "text": [
      "Coeficiente de Sharpe con pesos iniciales:  -0.007\n"
     ]
    }
   ],
   "source": [
    "print(\"Coeficiente de Sharpe con pesos iniciales: \", round(sharpe(w),3))"
   ]
  },
  {
   "cell_type": "markdown",
   "metadata": {},
   "source": [
    "#### Frontera de carteras de mínima varianza y frontera eficiente / graficar\n",
    "\n",
    "#### a. Con ventas en corto\n",
    "#### b. Sin ventas en corto"
   ]
  },
  {
   "cell_type": "code",
   "execution_count": 11,
   "metadata": {},
   "outputs": [
    {
     "name": "stdout",
     "output_type": "stream",
     "text": [
      "Optimization terminated successfully.    (Exit mode 0)\n",
      "            Current function value: -0.9141583892894736\n",
      "            Iterations: 12\n",
      "            Function evaluations: 108\n",
      "            Gradient evaluations: 12\n",
      "Optimization terminated successfully.    (Exit mode 0)\n",
      "            Current function value: -0.48025435085361345\n",
      "            Iterations: 6\n",
      "            Function evaluations: 54\n",
      "            Gradient evaluations: 6\n",
      "Pesos optimos con ventas en corto sin restricción de x:  [-0.32410485  0.52410349 -1.          0.5286197  -0.52415384  0.79553549\n",
      "  1.        ]\n",
      "Pesos optimos sin ventas en corto con restricción de x>=0:  [1.85225035e-17 0.00000000e+00 2.41634307e-16 2.24254530e-01\n",
      " 5.11054795e-17 1.78882558e-01 5.96862912e-01]\n"
     ]
    }
   ],
   "source": [
    "\n",
    "def apply_sum_constraint(inputs):\n",
    "    total = 1- np.sum(inputs)\n",
    "    return total\n",
    "\n",
    "my_constraints = ({'type': 'eq', \"fun\": apply_sum_constraint })\n",
    "\n",
    "\n",
    "#Con ventas en corto Sin restricción de x\n",
    "\n",
    "con_venta = optimize.minimize(neg_sharpe, \n",
    "                      w, \n",
    "                      method='SLSQP', \n",
    "                      bounds=((-1.0, 1.0), (-1.0, 1.0), (-1.0, 1.0),(-1.0, 1.0),(-1.0, 1.0),(-1.0, 1.0),(-1.0, 1.0)),\n",
    "                      options={'disp': True},\n",
    "                      constraints=my_constraints)\n",
    "\n",
    "#Sin ventas en corto con restricción de x>=0\n",
    "\n",
    "sin_venta = optimize.minimize(neg_sharpe, \n",
    "                      w, \n",
    "                      method='SLSQP', \n",
    "                      bounds=((0, 1.0), (0, 1.0), (0, 1.0),(0, 1.0),(0, 1.0),(0, 1.0),(0, 1.0)),\n",
    "                      options={'disp': True},\n",
    "                      constraints=my_constraints)\n",
    "\n",
    "#print(con_venta)\n",
    "#print(sin_venta)\n",
    "\n",
    "optimal_w_con = con_venta[\"x\"]\n",
    "optimal_w_sin = sin_venta[\"x\"]\n",
    "\n",
    "print(\"Pesos optimos con ventas en corto sin restricción de x: \",optimal_w_con)\n",
    "print(\"Pesos optimos sin ventas en corto con restricción de x>=0: \",optimal_w_sin)\n"
   ]
  },
  {
   "cell_type": "code",
   "execution_count": 12,
   "metadata": {},
   "outputs": [],
   "source": [
    "def random_ports(n):\n",
    "    '''Portafolio aleatorios'''\n",
    "    means, stds = [],[]\n",
    "    for i in range(n):\n",
    "        rand_w = np.random.rand(len(X.columns))\n",
    "        rand_w = rand_w / sum(rand_w)\n",
    "        means.append(mu(rand_w, r))\n",
    "        stds.append(sigma(rand_w,C))\n",
    "    \n",
    "    return means, stds"
   ]
  },
  {
   "cell_type": "code",
   "execution_count": 13,
   "metadata": {},
   "outputs": [
    {
     "data": {
      "text/plain": [
       "Text(0, 0.5, 'mean')"
      ]
     },
     "execution_count": 13,
     "metadata": {},
     "output_type": "execute_result"
    },
    {
     "data": {
      "image/png": "[encoded data removed]",
      "text/plain": [
       "<Figure size 432x288 with 1 Axes>"
      ]
     },
     "metadata": {
      "needs_background": "light"
     },
     "output_type": "display_data"
    }
   ],
   "source": [
    "#Grafiquemos\n",
    "n_portfolios = 100000\n",
    "means, stds = random_ports(n_portfolios)\n",
    "\n",
    "\n",
    "from pylab import * \n",
    "x = arange(1.5)\n",
    "\n",
    "best_mu = mu(optimal_w_con, r)\n",
    "best_sigma = sigma(optimal_w_con, C)\n",
    "best_sharpe = sharpe(optimal_w_con)\n",
    "plt.plot(stds, means, 'o', markersize=5)\n",
    "plt.plot(0.05 + ((best_mu-0.05)/best_sigma)*x) \n",
    "plt.plot(best_sigma, best_mu, 'x',  markersize=10)\n",
    "#plt.plot(0.05 + 0.1*best_sigma,'--',  markersize=2) \n",
    "#plt.plot(0.05 + 0.1*Betas['Beta'][0], '-',markersize=10) \n",
    "plt.xlabel('std')\n",
    "plt.ylabel('mean')"
   ]
  },
  {
   "cell_type": "markdown",
   "metadata": {},
   "source": [
    "### 4. Encuentra el portafolio riesgoso óptimo (maximiza el coeficiente de Sharpe) "
   ]
  },
  {
   "cell_type": "code",
   "execution_count": 14,
   "metadata": {},
   "outputs": [
    {
     "name": "stdout",
     "output_type": "stream",
     "text": [
      "El coeficiente de Sharpe maximizado es:  0.48\n",
      "El portafolio optimo es :  0.47185878989076496 0.48135367133862184\n"
     ]
    }
   ],
   "source": [
    "print(\"El coeficiente de Sharpe maximizado es: \", round(sharpe(optimal_w_sin),3))\n",
    "print(\"El portafolio optimo es : \",  best_sigma, best_mu)\n"
   ]
  },
  {
   "cell_type": "markdown",
   "metadata": {},
   "source": [
    "### 5. Calcula el VaR paramétrico del portafolio riesgoso óptimo (1 día, 95% de confianza)"
   ]
  },
  {
   "cell_type": "code",
   "execution_count": 15,
   "metadata": {},
   "outputs": [
    {
     "data": {
      "text/plain": [
       "1.6448536269514722"
      ]
     },
     "execution_count": 15,
     "metadata": {},
     "output_type": "execute_result"
    }
   ],
   "source": [
    "from scipy.stats import norm\n",
    "monto_inv=10_000_000\n",
    "n_confianza=0.95\n",
    "F= norm.ppf(n_confianza)\n",
    "F"
   ]
  },
  {
   "cell_type": "code",
   "execution_count": 16,
   "metadata": {},
   "outputs": [
    {
     "data": {
      "text/html": [
       "<div>\n",
       "<style scoped>\n",
       "    .dataframe tbody tr th:only-of-type {\n",
       "        vertical-align: middle;\n",
       "    }\n",
       "\n",
       "    .dataframe tbody tr th {\n",
       "        vertical-align: top;\n",
       "    }\n",
       "\n",
       "    .dataframe thead th {\n",
       "        text-align: right;\n",
       "    }\n",
       "</style>\n",
       "<table border=\"1\" class=\"dataframe\">\n",
       "  <thead>\n",
       "    <tr style=\"text-align: right;\">\n",
       "      <th></th>\n",
       "      <th>Pesos optimizados</th>\n",
       "      <th>Vector posiciones</th>\n",
       "      <th>Volatilidad Diaria</th>\n",
       "      <th>VaR individual diaria</th>\n",
       "    </tr>\n",
       "  </thead>\n",
       "  <tbody>\n",
       "    <tr>\n",
       "      <td>KIMBERA</td>\n",
       "      <td>1.852250e-17</td>\n",
       "      <td>1.852250e-10</td>\n",
       "      <td>0.015655</td>\n",
       "      <td>4.769427e-12</td>\n",
       "    </tr>\n",
       "    <tr>\n",
       "      <td>FEMSAUBD</td>\n",
       "      <td>0.000000e+00</td>\n",
       "      <td>0.000000e+00</td>\n",
       "      <td>0.011330</td>\n",
       "      <td>0.000000e+00</td>\n",
       "    </tr>\n",
       "    <tr>\n",
       "      <td>TLEVICPO</td>\n",
       "      <td>2.416343e-16</td>\n",
       "      <td>2.416343e-09</td>\n",
       "      <td>0.017678</td>\n",
       "      <td>7.026200e-11</td>\n",
       "    </tr>\n",
       "    <tr>\n",
       "      <td>LABB</td>\n",
       "      <td>2.242545e-01</td>\n",
       "      <td>2.242545e+06</td>\n",
       "      <td>0.021517</td>\n",
       "      <td>7.936773e+04</td>\n",
       "    </tr>\n",
       "    <tr>\n",
       "      <td>KOFUBL</td>\n",
       "      <td>5.110548e-17</td>\n",
       "      <td>5.110548e-10</td>\n",
       "      <td>0.012324</td>\n",
       "      <td>1.035948e-11</td>\n",
       "    </tr>\n",
       "    <tr>\n",
       "      <td>ASURB</td>\n",
       "      <td>1.788826e-01</td>\n",
       "      <td>1.788826e+06</td>\n",
       "      <td>0.014960</td>\n",
       "      <td>4.401657e+04</td>\n",
       "    </tr>\n",
       "    <tr>\n",
       "      <td>OMAB</td>\n",
       "      <td>5.968629e-01</td>\n",
       "      <td>5.968629e+06</td>\n",
       "      <td>0.015894</td>\n",
       "      <td>1.560413e+05</td>\n",
       "    </tr>\n",
       "  </tbody>\n",
       "</table>\n",
       "</div>"
      ],
      "text/plain": [
       "          Pesos optimizados  Vector posiciones  Volatilidad Diaria  \\\n",
       "KIMBERA        1.852250e-17       1.852250e-10            0.015655   \n",
       "FEMSAUBD       0.000000e+00       0.000000e+00            0.011330   \n",
       "TLEVICPO       2.416343e-16       2.416343e-09            0.017678   \n",
       "LABB           2.242545e-01       2.242545e+06            0.021517   \n",
       "KOFUBL         5.110548e-17       5.110548e-10            0.012324   \n",
       "ASURB          1.788826e-01       1.788826e+06            0.014960   \n",
       "OMAB           5.968629e-01       5.968629e+06            0.015894   \n",
       "\n",
       "          VaR individual diaria  \n",
       "KIMBERA            4.769427e-12  \n",
       "FEMSAUBD           0.000000e+00  \n",
       "TLEVICPO           7.026200e-11  \n",
       "LABB               7.936773e+04  \n",
       "KOFUBL             1.035948e-11  \n",
       "ASURB              4.401657e+04  \n",
       "OMAB               1.560413e+05  "
      ]
     },
     "execution_count": 16,
     "metadata": {},
     "output_type": "execute_result"
    }
   ],
   "source": [
    "Betas['Pesos optimizados']=optimal_w_sin\n",
    "VaR = Betas.drop(['Beta', 'Categoría'],axis=1,inplace=False) \n",
    "\n",
    "VaR['Vector posiciones']=VaR['Pesos optimizados']*monto_inv\n",
    "\n",
    "v_d=[]\n",
    "for i in range(len(C)):\n",
    "    v_d.append(math.sqrt(covarianza[covarianza.index.values[i]][covarianza.index.values[i]]))\n",
    " \n",
    "\n",
    "VaR['Volatilidad Diaria'] = v_d\n",
    "VaR['VaR individual diaria'] = VaR['Volatilidad Diaria']*VaR['Vector posiciones']*F\n",
    "\n",
    "VaR"
   ]
  },
  {
   "cell_type": "code",
   "execution_count": 17,
   "metadata": {},
   "outputs": [
    {
     "name": "stdout",
     "output_type": "stream",
     "text": [
      "El VaR total diaria es:  279425.60832992126\n"
     ]
    }
   ],
   "source": [
    "VaR_T= VaR['VaR individual diaria'].sum()\n",
    "print(\"El VaR total diaria es: \", VaR_T)"
   ]
  },
  {
   "cell_type": "code",
   "execution_count": null,
   "metadata": {},
   "outputs": [],
   "source": []
  }
 ],
 "metadata": {
  "kernelspec": {
   "display_name": "Python 3",
   "language": "python",
   "name": "python3"
  },
  "language_info": {
   "codemirror_mode": {
    "name": "ipython",
    "version": 3
   },
   "file_extension": ".py",
   "mimetype": "text/x-python",
   "name": "python",
   "nbconvert_exporter": "python",
   "pygments_lexer": "ipython3",
   "version": "3.7.4"
  }
 },
 "nbformat": 4,
 "nbformat_minor": 2
}
