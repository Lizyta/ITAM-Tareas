{
 "cells": [
  {
   "cell_type": "markdown",
   "metadata": {},
   "source": [
    "# Comunicados de Política Monetaria\n",
    "## Parte 1.\n",
    "\n",
    "En este notebook crearemos un pandas DataFrame con las decisiones de política monetaria de Banxico y haremos un análisis de la información recabada."
   ]
  },
  {
   "cell_type": "code",
   "execution_count": 25,
   "metadata": {},
   "outputs": [
    {
     "name": "stderr",
     "output_type": "stream",
     "text": [
      "[nltk_data] Downloading package punkt to\n",
      "[nltk_data]     C:\\Users\\Lizbeth\\AppData\\Roaming\\nltk_data...\n",
      "[nltk_data]   Package punkt is already up-to-date!\n",
      "[nltk_data] Downloading package stopwords to\n",
      "[nltk_data]     C:\\Users\\Lizbeth\\AppData\\Roaming\\nltk_data...\n",
      "[nltk_data]   Package stopwords is already up-to-date!\n"
     ]
    }
   ],
   "source": [
    "import re\n",
    "import os\n",
    "import requests\n",
    "import pandas as pd\n",
    "import numpy as np\n",
    "import matplotlib.pyplot as plt\n",
    "from requests_html import HTMLSession\n",
    "from collections import defaultdict\n",
    "from unidecode import unidecode\n",
    "from datetime import datetime\n",
    "from tqdm.notebook import tqdm\n",
    "from time import sleep\n",
    "import locale\n",
    "locale.setlocale(locale.LC_TIME, \"es_ES.UTF-8\")\n",
    "from io import BytesIO\n",
    "import PyPDF2\n",
    "from PyPDF2 import PdfFileReader\n",
    "import string\n",
    "from nltk.corpus import stopwords\n",
    "from nltk.tokenize import word_tokenize\n",
    "from collections import defaultdict\n",
    "import nltk\n",
    "from nltk import corpus\n",
    "nltk.download('punkt')\n",
    "nltk.download('stopwords')\n",
    "from sklearn.model_selection import train_test_split"
   ]
  },
  {
   "cell_type": "code",
   "execution_count": 2,
   "metadata": {},
   "outputs": [],
   "source": [
    "%config InlineBackend.figure_format = \"retina\"\n",
    "plt.rcParams[\"figure.figsize\"] = (12, 4)"
   ]
  },
  {
   "cell_type": "markdown",
   "metadata": {},
   "source": [
    "La información de decisción de política monetaria se encuentra en la siguiente url."
   ]
  },
  {
   "cell_type": "code",
   "execution_count": 3,
   "metadata": {},
   "outputs": [],
   "source": [
    "url = (\"https://www.banxico.org.mx/publicaciones-y-prensa/\"\n",
    "      \"anuncios-de-las-decisiones-de-politica-monetaria/\"\n",
    "      \"anuncios-politica-monetaria-t.html\")"
   ]
  },
  {
   "cell_type": "markdown",
   "metadata": {},
   "source": [
    "* Entra a `url` y analiza la página."
   ]
  },
  {
   "cell_type": "code",
   "execution_count": 4,
   "metadata": {},
   "outputs": [
    {
     "name": "stdout",
     "output_type": "stream",
     "text": [
      "https://www.banxico.org.mx/publicaciones-y-prensa/anuncios-de-las-decisiones-de-politica-monetaria/anuncios-politica-monetaria-t.html\n"
     ]
    }
   ],
   "source": [
    "print(url)"
   ]
  },
  {
   "cell_type": "markdown",
   "metadata": {},
   "source": [
    "* Como podemos observar, la url objetivo contiene\n",
    "    * las fechas de decisiones de política monetaria,\n",
    "    * el resumen de las decisiones de política monetaria y\n",
    "    * una url que nos dirige a un pdf con el texto completo del Anuncio de Política Monetaria.\n",
    "    \n",
    "<h3 style=\"color:crimson\">Ejercicio</h3>\n",
    "\n",
    "1. Por medio de `requests_html`, extrae los tres puntos antes mencionados y guárdalos dentro de un DataFrame con columnas `\"date\"`, `\"text\"` y `\"url\"`;\n",
    "2. Con el dataframe seleccionado, filtra todos comunicados anteriores al 15 de febrero de 2008, i.e., queremos todos los comunicados a partir del 15 de Febrero de 2008;\n",
    "3. Guarda tu DataFrame dentro de un archivo `.pkl` con nombre `comunicados-banxico.pkl`: **hint:** Revisa el uso del método `to_pickle`."
   ]
  },
  {
   "cell_type": "code",
   "execution_count": 5,
   "metadata": {},
   "outputs": [],
   "source": [
    "url = (\"https://www.banxico.org.mx/publicaciones-y-prensa/\"\n",
    "      \"anuncios-de-las-decisiones-de-politica-monetaria/\"\n",
    "      \"anuncios-politica-monetaria-t.html\")\n",
    "with HTMLSession() as sess:\n",
    "    r = sess.get(url)\n",
    "r\n",
    "\n",
    "#se busca el primer id de la pagina\n",
    "divpage = r.html.find(\"div[id='content']\", first=True)\n",
    "\n",
    "#se busca dentro de 'content' todos los elementos de 'tr'\n",
    "papers_date=divpage.find(\"tr\")"
   ]
  },
  {
   "cell_type": "code",
   "execution_count": 6,
   "metadata": {},
   "outputs": [],
   "source": [
    "#se busca la información deseada, la fecha, el titulo de cada texto y la url\n",
    "values = []\n",
    "for date_secc, papers_secc,url_secc in zip(papers_date, papers_date, papers_date):\n",
    "    #extrae fechas de cada comunicado\n",
    "    date = date_secc.find(\"td[class='bmdateview']\", first=True).text\n",
    "    #para la fecha, se cambia el formato\n",
    "    date_form=datetime.strptime(date, '%d/%m/%y')\n",
    "    #extrae titulo de cada comunicado\n",
    "    text_pag = papers_secc.find(\"td[class='bmtextview']\", first=True).text\n",
    "    #extrae url de cada comunicado\n",
    "    abstract_url = url_secc.find(\"a[href]\", first=True).absolute_links\n",
    "    abstract_url, *_ = abstract_url\n",
    "    #Se guardan los tres datos en un arreglo\n",
    "    values.append([date_form, text_pag, abstract_url])     "
   ]
  },
  {
   "cell_type": "code",
   "execution_count": 7,
   "metadata": {},
   "outputs": [
    {
     "data": {
      "text/html": [
       "<div>\n",
       "<style scoped>\n",
       "    .dataframe tbody tr th:only-of-type {\n",
       "        vertical-align: middle;\n",
       "    }\n",
       "\n",
       "    .dataframe tbody tr th {\n",
       "        vertical-align: top;\n",
       "    }\n",
       "\n",
       "    .dataframe thead th {\n",
       "        text-align: right;\n",
       "    }\n",
       "</style>\n",
       "<table border=\"1\" class=\"dataframe\">\n",
       "  <thead>\n",
       "    <tr style=\"text-align: right;\">\n",
       "      <th></th>\n",
       "      <th>text</th>\n",
       "      <th>url</th>\n",
       "    </tr>\n",
       "    <tr>\n",
       "      <th>date</th>\n",
       "      <th></th>\n",
       "      <th></th>\n",
       "    </tr>\n",
       "  </thead>\n",
       "  <tbody>\n",
       "    <tr>\n",
       "      <td>2008-02-15</td>\n",
       "      <td>El objetivo para la Tasa de Inter�s Interbanca...</td>\n",
       "      <td>https://www.banxico.org.mx/publicaciones-y-pre...</td>\n",
       "    </tr>\n",
       "    <tr>\n",
       "      <td>2008-03-14</td>\n",
       "      <td>El objetivo para la Tasa de Inter�s Interbanca...</td>\n",
       "      <td>https://www.banxico.org.mx/publicaciones-y-pre...</td>\n",
       "    </tr>\n",
       "    <tr>\n",
       "      <td>2008-04-18</td>\n",
       "      <td>El objetivo para la Tasa de Inter�s Interbanca...</td>\n",
       "      <td>https://www.banxico.org.mx/publicaciones-y-pre...</td>\n",
       "    </tr>\n",
       "    <tr>\n",
       "      <td>2008-05-16</td>\n",
       "      <td>El objetivo para la Tasa de Inter�s Interbanca...</td>\n",
       "      <td>https://www.banxico.org.mx/publicaciones-y-pre...</td>\n",
       "    </tr>\n",
       "    <tr>\n",
       "      <td>2008-06-20</td>\n",
       "      <td>El objetivo para la Tasa de Inter�s Interbanca...</td>\n",
       "      <td>https://www.banxico.org.mx/publicaciones-y-pre...</td>\n",
       "    </tr>\n",
       "  </tbody>\n",
       "</table>\n",
       "</div>"
      ],
      "text/plain": [
       "                                                         text  \\\n",
       "date                                                            \n",
       "2008-02-15  El objetivo para la Tasa de Inter�s Interbanca...   \n",
       "2008-03-14  El objetivo para la Tasa de Inter�s Interbanca...   \n",
       "2008-04-18  El objetivo para la Tasa de Inter�s Interbanca...   \n",
       "2008-05-16  El objetivo para la Tasa de Inter�s Interbanca...   \n",
       "2008-06-20  El objetivo para la Tasa de Inter�s Interbanca...   \n",
       "\n",
       "                                                          url  \n",
       "date                                                           \n",
       "2008-02-15  https://www.banxico.org.mx/publicaciones-y-pre...  \n",
       "2008-03-14  https://www.banxico.org.mx/publicaciones-y-pre...  \n",
       "2008-04-18  https://www.banxico.org.mx/publicaciones-y-pre...  \n",
       "2008-05-16  https://www.banxico.org.mx/publicaciones-y-pre...  \n",
       "2008-06-20  https://www.banxico.org.mx/publicaciones-y-pre...  "
      ]
     },
     "execution_count": 7,
     "metadata": {},
     "output_type": "execute_result"
    }
   ],
   "source": [
    "#se genera el panda DataFrame con el arreglo anterior, donde se coloca el nombre de la columa y date lo convierto a indice\n",
    "df_values = pd.DataFrame(values, columns=[\"date\", \"text\", \"url\"]).set_index(\"date\")\n",
    "#se toman los comunicados del 2008-02-15 a la fecha\n",
    "df_values_f=df_values.loc[:'2008-02-15',:].sort_values('date')\n",
    "df_values_f.head()"
   ]
  },
  {
   "cell_type": "code",
   "execution_count": 8,
   "metadata": {},
   "outputs": [],
   "source": [
    "#se guarda el dataFrame obtenido en un archivo .pkl\n",
    "df_values_f.to_pickle(\"../Proyecto_Modulo_3/comunicados-banxico.pkl\")"
   ]
  },
  {
   "cell_type": "markdown",
   "metadata": {},
   "source": [
    "<h3 style=\"color:crimson\">Ejercicio</h3>\n",
    "\n",
    "Por medio del método `str.extract` para un pandas Series, crea una nueva columna `\"category\"` que extraiga del texto si la tasa se \n",
    "1. `\"mantiene\"`\n",
    "2. `\"incrementa\"`\n",
    "3. `\"disminuye\"`"
   ]
  },
  {
   "cell_type": "code",
   "execution_count": 9,
   "metadata": {
    "scrolled": true
   },
   "outputs": [
    {
     "data": {
      "text/html": [
       "<div>\n",
       "<style scoped>\n",
       "    .dataframe tbody tr th:only-of-type {\n",
       "        vertical-align: middle;\n",
       "    }\n",
       "\n",
       "    .dataframe tbody tr th {\n",
       "        vertical-align: top;\n",
       "    }\n",
       "\n",
       "    .dataframe thead th {\n",
       "        text-align: right;\n",
       "    }\n",
       "</style>\n",
       "<table border=\"1\" class=\"dataframe\">\n",
       "  <thead>\n",
       "    <tr style=\"text-align: right;\">\n",
       "      <th></th>\n",
       "      <th>text</th>\n",
       "      <th>url</th>\n",
       "      <th>category</th>\n",
       "    </tr>\n",
       "    <tr>\n",
       "      <th>date</th>\n",
       "      <th></th>\n",
       "      <th></th>\n",
       "      <th></th>\n",
       "    </tr>\n",
       "  </thead>\n",
       "  <tbody>\n",
       "    <tr>\n",
       "      <td>2008-02-15</td>\n",
       "      <td>El objetivo para la Tasa de Inter�s Interbanca...</td>\n",
       "      <td>https://www.banxico.org.mx/publicaciones-y-pre...</td>\n",
       "      <td>mantiene</td>\n",
       "    </tr>\n",
       "    <tr>\n",
       "      <td>2008-03-14</td>\n",
       "      <td>El objetivo para la Tasa de Inter�s Interbanca...</td>\n",
       "      <td>https://www.banxico.org.mx/publicaciones-y-pre...</td>\n",
       "      <td>mantiene</td>\n",
       "    </tr>\n",
       "    <tr>\n",
       "      <td>2008-04-18</td>\n",
       "      <td>El objetivo para la Tasa de Inter�s Interbanca...</td>\n",
       "      <td>https://www.banxico.org.mx/publicaciones-y-pre...</td>\n",
       "      <td>mantiene</td>\n",
       "    </tr>\n",
       "    <tr>\n",
       "      <td>2008-05-16</td>\n",
       "      <td>El objetivo para la Tasa de Inter�s Interbanca...</td>\n",
       "      <td>https://www.banxico.org.mx/publicaciones-y-pre...</td>\n",
       "      <td>mantiene</td>\n",
       "    </tr>\n",
       "    <tr>\n",
       "      <td>2008-06-20</td>\n",
       "      <td>El objetivo para la Tasa de Inter�s Interbanca...</td>\n",
       "      <td>https://www.banxico.org.mx/publicaciones-y-pre...</td>\n",
       "      <td>incrementa</td>\n",
       "    </tr>\n",
       "  </tbody>\n",
       "</table>\n",
       "</div>"
      ],
      "text/plain": [
       "                                                         text  \\\n",
       "date                                                            \n",
       "2008-02-15  El objetivo para la Tasa de Inter�s Interbanca...   \n",
       "2008-03-14  El objetivo para la Tasa de Inter�s Interbanca...   \n",
       "2008-04-18  El objetivo para la Tasa de Inter�s Interbanca...   \n",
       "2008-05-16  El objetivo para la Tasa de Inter�s Interbanca...   \n",
       "2008-06-20  El objetivo para la Tasa de Inter�s Interbanca...   \n",
       "\n",
       "                                                          url    category  \n",
       "date                                                                       \n",
       "2008-02-15  https://www.banxico.org.mx/publicaciones-y-pre...    mantiene  \n",
       "2008-03-14  https://www.banxico.org.mx/publicaciones-y-pre...    mantiene  \n",
       "2008-04-18  https://www.banxico.org.mx/publicaciones-y-pre...    mantiene  \n",
       "2008-05-16  https://www.banxico.org.mx/publicaciones-y-pre...    mantiene  \n",
       "2008-06-20  https://www.banxico.org.mx/publicaciones-y-pre...  incrementa  "
      ]
     },
     "execution_count": 9,
     "metadata": {},
     "output_type": "execute_result"
    }
   ],
   "source": [
    "#se genera una nueva columna con las palabras incrementa,mantiene,disminuye extraidas del text\n",
    "df_values_f['category'] = df_values_f.text.str.extract('(incrementa|mantiene|disminuye)')\n",
    "df_values_f.head()"
   ]
  },
  {
   "cell_type": "markdown",
   "metadata": {},
   "source": [
    "<h3 style=\"color:crimson\">Ejercicio</h3>\n",
    "\n",
    "Cuenta las veces en las que la tasa se mantuvo, se incrementó o se disminuyó."
   ]
  },
  {
   "cell_type": "code",
   "execution_count": 10,
   "metadata": {},
   "outputs": [
    {
     "data": {
      "text/plain": [
       "mantiene      72\n",
       "incrementa    18\n",
       "disminuye     16\n",
       "Name: category, dtype: int64"
      ]
     },
     "execution_count": 10,
     "metadata": {},
     "output_type": "execute_result"
    }
   ],
   "source": [
    "#se cuentan las repeticiones de la columna category\n",
    "cont=df_values_f.category.value_counts()\n",
    "cont"
   ]
  },
  {
   "cell_type": "markdown",
   "metadata": {},
   "source": [
    "<h3 style=\"color:crimson\">Ejercicio</h3>\n",
    "\n",
    "Reproduce la siguiente figura sobre los comunicados de prensa de Banxico:\n",
    "1. La gráfica de la izquierda representa una serie de tiempo sobre los comunicados de banxico. Si `y=1`, la tasa de referencia se incrementó; si `y=0`, la tasa se mantuvo; finalmente, si `y=-1`, la tasa disminuyó.\n",
    "2. La gráfica de la derecha es una gráfica de barras del ejercicio anterior"
   ]
  },
  {
   "cell_type": "code",
   "execution_count": 11,
   "metadata": {},
   "outputs": [
    {
     "name": "stderr",
     "output_type": "stream",
     "text": [
      "C:\\ProgramData\\Anaconda3\\lib\\site-packages\\pandas\\plotting\\_matplotlib\\converter.py:103: FutureWarning: Using an implicitly registered datetime converter for a matplotlib plotting method. The converter was registered by pandas on import. Future versions of pandas will require you to explicitly register matplotlib converters.\n",
      "\n",
      "To register the converters:\n",
      "\t>>> from pandas.plotting import register_matplotlib_converters\n",
      "\t>>> register_matplotlib_converters()\n",
      "  warnings.warn(msg, FutureWarning)\n"
     ]
    },
    {
     "data": {
      "image/png": "[encoded data removed]",
      "text/plain": [
       "<Figure size 1152x288 with 2 Axes>"
      ]
     },
     "metadata": {
      "image/png": {
       "height": 281,
       "width": 1144
      },
      "needs_background": "light"
     },
     "output_type": "display_data"
    }
   ],
   "source": [
    "#se reenombran\n",
    "valor_c = {'mantiene' : 0 , 'incrementa' : 1, 'disminuye' : -1}\n",
    "g=df_values_f.category.map(valor_c)\n",
    "\n",
    "#se generan las dos graficas\n",
    "fig, axes= plt.subplots(ncols=2, figsize=(16,4))\n",
    "plt.setp(axes[0], yticks=([1, 0, -1]))\n",
    "axes[0].grid()\n",
    "axes[0].plot(g.index,g, '+')\n",
    "df_values_f.category.value_counts().plot(kind='bar',ax=axes[1])\n",
    "fig.tight_layout()"
   ]
  },
  {
   "cell_type": "markdown",
   "metadata": {},
   "source": [
    "<h3 style=\"color:crimson\">Ejercicio</h3>\n",
    "\n",
    "Agrupa por año y cuenta el número de comunicados en un año para cada categoría."
   ]
  },
  {
   "cell_type": "code",
   "execution_count": 12,
   "metadata": {},
   "outputs": [
    {
     "data": {
      "text/plain": [
       "date  category  \n",
       "2008  mantiene       7\n",
       "      incrementa     3\n",
       "2009  disminuye      7\n",
       "      mantiene       4\n",
       "2010  mantiene      11\n",
       "Name: category, dtype: int64"
      ]
     },
     "execution_count": 12,
     "metadata": {},
     "output_type": "execute_result"
    }
   ],
   "source": [
    "#se agrupa por año y por category para poder contar las repeticiones de category\n",
    "comunicado=df_values_f.category.groupby(df_values_f.index.year).value_counts()\n",
    "comunicado.head()"
   ]
  },
  {
   "cell_type": "markdown",
   "metadata": {},
   "source": [
    "<h3 style=\"color:crimson\">Ejercicio</h3>\n",
    "\n",
    "Con el resultado anterior, replica la siguiente gráfica"
   ]
  },
  {
   "cell_type": "code",
   "execution_count": 13,
   "metadata": {},
   "outputs": [
    {
     "data": {
      "text/plain": [
       "<matplotlib.axes._subplots.AxesSubplot at 0x217ba81d0c8>"
      ]
     },
     "execution_count": 13,
     "metadata": {},
     "output_type": "execute_result"
    },
    {
     "data": {
      "image/png": "[encoded data removed]",
      "text/plain": [
       "<Figure size 864x288 with 1 Axes>"
      ]
     },
     "metadata": {
      "image/png": {
       "height": 277,
       "width": 703
      },
      "needs_background": "light"
     },
     "output_type": "display_data"
    }
   ],
   "source": [
    "comunicado.unstack(level=1).plot.bar(stacked=True)\n"
   ]
  },
  {
   "cell_type": "markdown",
   "metadata": {},
   "source": [
    "## Parte 2.\n",
    "\n",
    "*Unicamente pandas y numpy, matplotlib, seaborn. \n",
    "\n",
    "Con la información obtenida modelar Naïve Bayes, si un documento dado pertenece a la clase mantien,incrementa o disminuye.\n",
    "\n",
    "Pasos:\n",
    "1. Descargar pdf's.\n",
    "2. Limpiar los datos.\n",
    "3. Eliminar de todos los archivos las palabras que contengan mantien,incrementa o disminuye.\n",
    "4. Parte los documentos entre un set de entrenamiento (0.8) y uno de prueba (0.2).\n",
    "5. Entrena el modelo con los documentos de entrenamiento y valida el resultado con una matriz de confusión usando la base de     prueba."
   ]
  },
  {
   "cell_type": "code",
   "execution_count": 14,
   "metadata": {},
   "outputs": [],
   "source": [
    "#Descargar los pdf's y guardarlos en una carpeta.\n",
    "\n",
    "for i in range(0,len(df_values_f)):\n",
    "    r_1=requests.get(df_values_f.url[i],stream = True)\n",
    "    paper=r_1.content\n",
    "    #se guardan con el nombre de category y el date\n",
    "    fil = str(df_values_f.category[i])+str(df_values_f.index[i]).replace(\":\", \"-\")\n",
    "    #se guardan en la ruta deseada\n",
    "    full_path=os.path.join(\"descargas\",fil + \".pdf\")\n",
    "    with open(full_path,\"wb\") as f:\n",
    "        f.write(paper)\n"
   ]
  },
  {
   "cell_type": "code",
   "execution_count": 15,
   "metadata": {},
   "outputs": [
    {
     "name": "stderr",
     "output_type": "stream",
     "text": [
      "PdfReadWarning: Xref table not zero-indexed. ID numbers for objects will be corrected. [pdf.py:1736]\n"
     ]
    },
    {
     "data": {
      "text/plain": [
       "{'incrementa': 18, 'disminuye': 16, 'mantiene': 72}"
      ]
     },
     "execution_count": 15,
     "metadata": {},
     "output_type": "execute_result"
    }
   ],
   "source": [
    "#Para cada pdf descargadó se lee y el texto se guarda en una lista dependiendo la categoria a la que pertecene.\n",
    "lista1=[]\n",
    "lista2=[]\n",
    "lista3=[]\n",
    "for j in range(0,len(df_values_f)):\n",
    "    #nombre del archivo\n",
    "    fil = str(df_values_f.category[j])+str(df_values_f.index[j]).replace(\":\", \"-\")\n",
    "    #ruta donde se encuentra el archivo\n",
    "    pdf_document = \"../Proyecto_Modulo_3/descargas/\"+fil+\".pdf\"\n",
    "    \n",
    "    #se lee cada pdf\n",
    "    with open(pdf_document, \"rb\") as file:  \n",
    "        pdf = PdfFileReader(file)\n",
    "        texto=\"\"\n",
    "        for p in range(0,pdf.getNumPages()):\n",
    "            texto += pdf.getPage(p).extractText() + \"\\n\"\n",
    "            texto = \" \".join(texto.replace(\"\\n\", \"\").strip().split())\n",
    "            texto = \" \".join(word.strip(string.punctuation) for word in texto.split() if word.isalpha())\n",
    "    \n",
    "    #para el texto extraido se revisa a que categoría pertenece y se guarda en la lista correspondiente       \n",
    "    if fil[:10]==\"incrementa\":\n",
    "        lista1.append(texto) \n",
    "    elif fil[:9]==\"disminuye\":\n",
    "        lista2.append(texto) \n",
    "    elif fil[:8]==\"mantiene\":\n",
    "        lista3.append(texto)  \n",
    "\n",
    "#se genera un diccionario para cada categoría y el arreglo de los textos de esa categoría\n",
    "diccionario={\"incrementa\":lista1,\"disminuye\":lista2,\"mantiene\":lista3}\n",
    "\n",
    "#se valida que cada llave tenga el mismo conteo de textos como se menciono arriba\n",
    "{quien: len(diccionario) for quien, diccionario in diccionario.items()}"
   ]
  },
  {
   "cell_type": "code",
   "execution_count": 16,
   "metadata": {},
   "outputs": [],
   "source": [
    "#se renombra cada palabra\n",
    "k1, k2,k3 = \"mantiene\", \"incrementa\",\"disminuye\""
   ]
  },
  {
   "cell_type": "code",
   "execution_count": 17,
   "metadata": {},
   "outputs": [],
   "source": [
    "#se genera una función que sirve la limpiar cada texto\n",
    "def limpia_dialogo(doc):\n",
    "    limpio=doc.lower()\n",
    "    limpio=re.sub(\" [^\\w ]\",\" \",limpio)\n",
    "    return limpio"
   ]
  },
  {
   "cell_type": "code",
   "execution_count": 18,
   "metadata": {},
   "outputs": [],
   "source": [
    "#para cada llave del diccionario, se limpian los textos que contienen y se guardan en una nueva variable.\n",
    "D1 = [limpia_dialogo(doc) for doc in diccionario[k1]]\n",
    "D2 = [limpia_dialogo(doc) for doc in diccionario[k2]]\n",
    "D3 = [limpia_dialogo(doc) for doc in diccionario[k3]]\n",
    "\n",
    "#con el train_test_split se crean dos conjuntos, uno que es de entrenamiento (0.8) y uno de prueba (0.2);\n",
    "#por cada Di (donde Di contiene los textos limpios de cada llave del diccionario)\n",
    "D1, D1_test = train_test_split(D1, test_size=0.2)\n",
    "D2, D2_test = train_test_split(D2, test_size=0.2)\n",
    "D3, D3_test = train_test_split(D3, test_size=0.2)\n",
    "\n",
    "#se toma la longitud de cada D y se guarda la suma en una nueva variable N\n",
    "N1 = len(D1)\n",
    "N2= len(D2)\n",
    "N3=len(D3)\n",
    "N= N1+N2+N3\n"
   ]
  },
  {
   "cell_type": "code",
   "execution_count": 19,
   "metadata": {},
   "outputs": [],
   "source": [
    "#con el stopwords se quitan las palabras de uso comun y además quitamos las palabras \"mantiene\", \"incrementa\",\"disminuye\".\n",
    "stopwords = corpus.stopwords.words(\"spanish\")\n",
    "stopwords = [unidecode(word) for word in stopwords]\n",
    "stopwords.extend([\"mantiene\", \"incrementa\",\"disminuye\"])"
   ]
  },
  {
   "cell_type": "code",
   "execution_count": 20,
   "metadata": {},
   "outputs": [
    {
     "data": {
      "text/html": [
       "<div>\n",
       "<style scoped>\n",
       "    .dataframe tbody tr th:only-of-type {\n",
       "        vertical-align: middle;\n",
       "    }\n",
       "\n",
       "    .dataframe tbody tr th {\n",
       "        vertical-align: top;\n",
       "    }\n",
       "\n",
       "    .dataframe thead th {\n",
       "        text-align: right;\n",
       "    }\n",
       "</style>\n",
       "<table border=\"1\" class=\"dataframe\">\n",
       "  <thead>\n",
       "    <tr style=\"text-align: right;\">\n",
       "      <th></th>\n",
       "      <th>k1</th>\n",
       "      <th>k2</th>\n",
       "      <th>k3</th>\n",
       "    </tr>\n",
       "  </thead>\n",
       "  <tbody>\n",
       "    <tr>\n",
       "      <td>cíclicas</td>\n",
       "      <td>0.000189</td>\n",
       "      <td>0.000191</td>\n",
       "      <td>0.000137</td>\n",
       "    </tr>\n",
       "    <tr>\n",
       "      <td>composición</td>\n",
       "      <td>0.000038</td>\n",
       "      <td>0.000095</td>\n",
       "      <td>0.000412</td>\n",
       "    </tr>\n",
       "    <tr>\n",
       "      <td>panorama</td>\n",
       "      <td>0.000567</td>\n",
       "      <td>0.000572</td>\n",
       "      <td>0.000412</td>\n",
       "    </tr>\n",
       "    <tr>\n",
       "      <td>pequeño</td>\n",
       "      <td>0.000076</td>\n",
       "      <td>0.000095</td>\n",
       "      <td>0.000137</td>\n",
       "    </tr>\n",
       "    <tr>\n",
       "      <td>expectativa</td>\n",
       "      <td>0.000718</td>\n",
       "      <td>0.000762</td>\n",
       "      <td>0.000686</td>\n",
       "    </tr>\n",
       "    <tr>\n",
       "      <td>certidumbre</td>\n",
       "      <td>0.000151</td>\n",
       "      <td>0.000286</td>\n",
       "      <td>0.000549</td>\n",
       "    </tr>\n",
       "    <tr>\n",
       "      <td>terminación</td>\n",
       "      <td>0.000038</td>\n",
       "      <td>0.000095</td>\n",
       "      <td>0.000274</td>\n",
       "    </tr>\n",
       "    <tr>\n",
       "      <td>empresas</td>\n",
       "      <td>0.000076</td>\n",
       "      <td>0.000095</td>\n",
       "      <td>0.000137</td>\n",
       "    </tr>\n",
       "    <tr>\n",
       "      <td>adopte</td>\n",
       "      <td>0.000038</td>\n",
       "      <td>0.000191</td>\n",
       "      <td>0.000137</td>\n",
       "    </tr>\n",
       "    <tr>\n",
       "      <td>presentarían</td>\n",
       "      <td>0.000038</td>\n",
       "      <td>0.000095</td>\n",
       "      <td>0.000274</td>\n",
       "    </tr>\n",
       "  </tbody>\n",
       "</table>\n",
       "</div>"
      ],
      "text/plain": [
       "                    k1        k2        k3\n",
       "cíclicas      0.000189  0.000191  0.000137\n",
       "composición   0.000038  0.000095  0.000412\n",
       "panorama      0.000567  0.000572  0.000412\n",
       "pequeño       0.000076  0.000095  0.000137\n",
       "expectativa   0.000718  0.000762  0.000686\n",
       "certidumbre   0.000151  0.000286  0.000549\n",
       "terminación   0.000038  0.000095  0.000274\n",
       "empresas      0.000076  0.000095  0.000137\n",
       "adopte        0.000038  0.000191  0.000137\n",
       "presentarían  0.000038  0.000095  0.000274"
      ]
     },
     "execution_count": 20,
     "metadata": {},
     "output_type": "execute_result"
    }
   ],
   "source": [
    "#para cada Di limpio se genera un listado de palabras únicas y se guarda en Vi\n",
    "V1 = [palabra for dialogo in D1 for palabra in dialogo.split()\n",
    "      if palabra not in stopwords]\n",
    "\n",
    "V2 = [palabra for dialogo in D2 for palabra in dialogo.split()\n",
    "      if palabra not in stopwords]\n",
    "\n",
    "V3 = [palabra for dialogo in D3 for palabra in dialogo.split()\n",
    "      if palabra not in stopwords]\n",
    "\n",
    "\n",
    "#se genera el conjunto V donde se unen todas las palabras unicas de cada Vi\n",
    "V = set(V1) | set(V2) | set(V3)\n",
    "#se genera un DataFrame con indices de V\n",
    "vocab = pd.DataFrame(index=V)\n",
    "\n",
    "\n",
    "# para cada Vi se realiza un conteo de cuantas veces se repite cada palabra que esta en el arreglo.\n",
    "V1_c = pd.Series(V1, name=\"k1\").value_counts()\n",
    "V2_c = pd.Series(V2, name=\"k2\").value_counts()\n",
    "V3_c = pd.Series(V3, name=\"k3\").value_counts()\n",
    "\n",
    "\n",
    "# se calcula la probabilidad de que cada palabra este en cada uno de los conjuntos Vi_c y se imprime\n",
    "L = (vocab.join(V1_c, how=\"left\")\n",
    "          .join(V2_c, how=\"left\")\n",
    "          .join(V3_c, how=\"left\"))\n",
    "\n",
    "L = L.fillna(0) + 1\n",
    "L = L / L.sum(axis=0)\n",
    "L.sample(10, random_state=314)"
   ]
  },
  {
   "cell_type": "code",
   "execution_count": 21,
   "metadata": {},
   "outputs": [],
   "source": [
    "#Se calcula el logaritmo de L y se saca el logaritmo de cada Ni con respecto a N\n",
    "log_L = np.log(L)\n",
    "\n",
    "log_prior_k1 = np.log(N1 / N)\n",
    "log_prior_k2 = np.log(N2 / N)\n",
    "log_prior_k3 = np.log(N3 / N)\n",
    "\n",
    "#Se guarda en un arreglo\n",
    "log_priors = np.array([log_prior_k1, log_prior_k2,log_prior_k3])"
   ]
  },
  {
   "cell_type": "markdown",
   "metadata": {},
   "source": [
    "## Probando el modelo"
   ]
  },
  {
   "cell_type": "code",
   "execution_count": 22,
   "metadata": {},
   "outputs": [
    {
     "name": "stdout",
     "output_type": "stream",
     "text": [
      "Valores del conjunto de prueba:  \n",
      "Mantiene:  15 \n",
      "Incrementa:  4 \n",
      "Disminuye:  4\n"
     ]
    }
   ],
   "source": [
    "#Se imprime el conjunto de prueba, estos valores se tiene que parecer a los valores del conjunto de entrenamiento.\n",
    "print(\"Valores del conjunto de prueba: \",  \"\\nMantiene: \",  len(D1_test) , \"\\nIncrementa: \" ,len(D2_test),\"\\nDisminuye: \" ,len(D3_test))"
   ]
  },
  {
   "cell_type": "code",
   "execution_count": 23,
   "metadata": {},
   "outputs": [],
   "source": [
    "#se genera una lista donde cada ki se multiplica por la longitud de cada Di_test (conjunto de prueba)\n",
    "\n",
    "D_test = D1_test + D2_test+D3_test\n",
    "y_test = [\"k1\"] * len(D1_test) + [\"k2\"] * len(D2_test) + [\"k3\"] * len(D3_test)\n",
    "\n",
    "#se genera una lista donde cada ki sale por medio del conjunto de entrenamiento\n",
    "yhat_test = []\n",
    "\n",
    "for d_test in D_test:\n",
    "    f = set([palabra for palabra in d_test.split() if palabra in V])\n",
    "    res = log_L.loc[f].sum(axis=0) + log_priors\n",
    "    yhat_test.append(res.idxmax())"
   ]
  },
  {
   "cell_type": "code",
   "execution_count": 24,
   "metadata": {},
   "outputs": [
    {
     "data": {
      "text/plain": [
       "array([[11,  3,  1],\n",
       "       [ 1,  3,  0],\n",
       "       [ 1,  0,  3]], dtype=int64)"
      ]
     },
     "execution_count": 24,
     "metadata": {},
     "output_type": "execute_result"
    }
   ],
   "source": [
    "#Se genera la matriz de confusion, la cual indica el número de coinsidencias entre el conjunto de prueba\n",
    "#y el conjunto de entrenamiento; con esto podemos validar cuantos falsos positivos y falsos negativos se optuvieron. \n",
    "#Además de que en la diogonal se indica cuantos si coincidieron.\n",
    "\n",
    "from sklearn.metrics import confusion_matrix\n",
    "confusion_matrix(y_test, yhat_test)"
   ]
  },
  {
   "cell_type": "markdown",
   "metadata": {},
   "source": [
    "El modelo se ajusta bien, dado que se acerca a los datos obtenidos en el conjunto de prueba, sólo algunas entradas no coincidieron pero son minimas.\n"
   ]
  },
  {
   "cell_type": "code",
   "execution_count": null,
   "metadata": {},
   "outputs": [],
   "source": []
  }
 ],
 "metadata": {
  "kernelspec": {
   "display_name": "Python 3",
   "language": "python",
   "name": "python3"
  },
  "language_info": {
   "codemirror_mode": {
    "name": "ipython",
    "version": 3
   },
   "file_extension": ".py",
   "mimetype": "text/x-python",
   "name": "python",
   "nbconvert_exporter": "python",
   "pygments_lexer": "ipython3",
   "version": "3.7.4"
  }
 },
 "nbformat": 4,
 "nbformat_minor": 2
}
